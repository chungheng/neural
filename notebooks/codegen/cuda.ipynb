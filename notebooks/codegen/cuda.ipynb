{
 "cells": [
  {
   "cell_type": "code",
   "execution_count": 1,
   "metadata": {},
   "outputs": [],
   "source": [
    "import numpy as np\n",
    "import cupy as cp"
   ]
  },
  {
   "cell_type": "code",
   "execution_count": 13,
   "metadata": {},
   "outputs": [
    {
     "data": {
      "text/plain": [
       "0"
      ]
     },
     "execution_count": 13,
     "metadata": {},
     "output_type": "execute_result"
    }
   ],
   "source": [
    "np.int64(0)"
   ]
  },
  {
   "cell_type": "code",
   "execution_count": 23,
   "metadata": {},
   "outputs": [
    {
     "name": "stdout",
     "output_type": "stream",
     "text": [
      "\u001b[0;31mInit signature:\u001b[0m \u001b[0mnp\u001b[0m\u001b[0;34m.\u001b[0m\u001b[0mfloat_\u001b[0m\u001b[0;34m(\u001b[0m\u001b[0mx\u001b[0m\u001b[0;34m=\u001b[0m\u001b[0;36m0\u001b[0m\u001b[0;34m,\u001b[0m \u001b[0;34m/\u001b[0m\u001b[0;34m)\u001b[0m\u001b[0;34m\u001b[0m\u001b[0;34m\u001b[0m\u001b[0m\n",
      "\u001b[0;31mDocstring:\u001b[0m     \n",
      "Double-precision floating-point number type, compatible with Python `float`\n",
      "and C ``double``.\n",
      "\n",
      ":Character code: ``'d'``\n",
      ":Canonical name: `numpy.double`\n",
      ":Alias: `numpy.float_`\n",
      ":Alias on this platform (Linux x86_64): `numpy.float64`: 64-bit precision floating-point number type: sign bit, 11 bits exponent, 52 bits mantissa.\n",
      "\u001b[0;31mFile:\u001b[0m           ~/anaconda3/envs/neural/lib/python3.9/site-packages/numpy/__init__.py\n",
      "\u001b[0;31mType:\u001b[0m           type\n",
      "\u001b[0;31mSubclasses:\u001b[0m     \n"
     ]
    }
   ],
   "source": [
    "?np.float_"
   ]
  },
  {
   "cell_type": "code",
   "execution_count": 21,
   "metadata": {},
   "outputs": [
    {
     "data": {
      "text/plain": [
       "False"
      ]
     },
     "execution_count": 21,
     "metadata": {},
     "output_type": "execute_result"
    }
   ],
   "source": [
    "isinstance(np.float_, np.dtype)"
   ]
  },
  {
   "cell_type": "code",
   "execution_count": 6,
   "metadata": {},
   "outputs": [],
   "source": [
    "a = 0"
   ]
  },
  {
   "cell_type": "code",
   "execution_count": null,
   "metadata": {},
   "outputs": [],
   "source": [
    "np.empty(3, dtype=)"
   ]
  },
  {
   "cell_type": "code",
   "execution_count": 3,
   "metadata": {},
   "outputs": [],
   "source": [
    "code = r\"\"\"\n",
    "    template <typename T>\n",
    "    __global__ void affect(T* const __restrict__ output,\n",
    "                         const T arg0, const T arg1,\n",
    "                         const size_t nelements) {\n",
    "        ptrdiff_t i = blockIdx.x * blockDim.x + threadIdx.x;\n",
    "        if (i >= nelements)\n",
    "            return;\n",
    "        output[i] = (i%2 == 0 ? arg0 : arg1);\n",
    "    }\n",
    "\"\"\"\n",
    "module = cp.RawModule(code=code,\n",
    "                      name_expressions=('affect<float3>',),\n",
    "                      options=('-std=c++11',))\n",
    "kernel = module.get_function('affect<float3>')\n",
    "\n",
    "float3 = np.dtype( { 'names': ['x', 'y', 'z'],\n",
    "                     'formats': [np.float32]*3 } )\n",
    "\n",
    "arg0 = np.random.rand(3).astype(np.float32).view(float3)\n",
    "arg1 = np.random.rand(3).astype(np.float32).view(float3)\n",
    "\n",
    "N = 512\n",
    "h_output = np.empty(dtype=float3, shape=N)\n",
    "d_output = cp.asarray(h_output.view(np.float32))\n",
    "\n",
    "grid = (N,)\n",
    "block = (256,)\n",
    "args = (d_output, arg0, arg1, np.uint64(N))\n",
    "kernel(grid, block, args)\n",
    "\n",
    "h_output[0::2] = arg0\n",
    "h_output[1::2] = arg1\n",
    "\n",
    "np.testing.assert_array_equal(h_output,\n",
    "                              cp.asnumpy(d_output).view(float3))"
   ]
  },
  {
   "cell_type": "code",
   "execution_count": 28,
   "metadata": {},
   "outputs": [
    {
     "data": {
      "text/plain": [
       "array([(0.37586102, 0.41145694, 0.39320305)],\n",
       "      dtype=[('x', '<f4'), ('y', '<f4'), ('z', '<f4')])"
      ]
     },
     "execution_count": 28,
     "metadata": {},
     "output_type": "execute_result"
    }
   ],
   "source": [
    "arg0"
   ]
  },
  {
   "cell_type": "code",
   "execution_count": 67,
   "metadata": {},
   "outputs": [],
   "source": [
    "def test_decorator(Model):\n",
    "\n",
    "    Model.dtype = float\n",
    "    Model.func(Model)\n",
    "    return Model"
   ]
  },
  {
   "cell_type": "code",
   "execution_count": 68,
   "metadata": {},
   "outputs": [
    {
     "name": "stdout",
     "output_type": "stream",
     "text": [
      "value\n"
     ]
    }
   ],
   "source": [
    "@test_decorator\n",
    "class TestBase:\n",
    "    a = 0\n",
    "\n",
    "    def func(self):\n",
    "        print('value')"
   ]
  },
  {
   "cell_type": "code",
   "execution_count": 71,
   "metadata": {},
   "outputs": [],
   "source": [
    "class TestChild(TestBase):\n",
    "    a = 1"
   ]
  },
  {
   "cell_type": "code",
   "execution_count": null,
   "metadata": {},
   "outputs": [],
   "source": []
  },
  {
   "cell_type": "code",
   "execution_count": 51,
   "metadata": {},
   "outputs": [
    {
     "data": {
      "text/plain": [
       "float"
      ]
     },
     "execution_count": 51,
     "metadata": {},
     "output_type": "execute_result"
    }
   ],
   "source": []
  },
  {
   "cell_type": "code",
   "execution_count": 42,
   "metadata": {},
   "outputs": [
    {
     "data": {
      "text/plain": [
       "float"
      ]
     },
     "execution_count": 42,
     "metadata": {},
     "output_type": "execute_result"
    }
   ],
   "source": [
    "TestBase"
   ]
  },
  {
   "cell_type": "code",
   "execution_count": null,
   "metadata": {},
   "outputs": [],
   "source": []
  }
 ],
 "metadata": {
  "interpreter": {
   "hash": "e53761087f5b83f447dedb9b9cbb01a83ae5a5f1ef55f60280c52164232220af"
  },
  "kernelspec": {
   "display_name": "Python 3.9.7 64-bit ('neural': conda)",
   "language": "python",
   "name": "python3"
  },
  "language_info": {
   "codemirror_mode": {
    "name": "ipython",
    "version": 3
   },
   "file_extension": ".py",
   "mimetype": "text/x-python",
   "name": "python",
   "nbconvert_exporter": "python",
   "pygments_lexer": "ipython3",
   "version": "3.9.7"
  },
  "orig_nbformat": 4
 },
 "nbformat": 4,
 "nbformat_minor": 2
}
