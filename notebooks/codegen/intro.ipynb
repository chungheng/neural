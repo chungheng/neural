{
 "cells": [
  {
   "cell_type": "markdown",
   "metadata": {},
   "source": [
    "# Code Generation"
   ]
  },
  {
   "cell_type": "code",
   "execution_count": 1,
   "metadata": {},
   "outputs": [],
   "source": [
    "%load_ext autoreload\n",
    "%autoreload 2"
   ]
  },
  {
   "cell_type": "code",
   "execution_count": 2,
   "metadata": {},
   "outputs": [],
   "source": [
    "import neural\n",
    "import numpy as np\n",
    "from neural.basemodel import Model\n",
    "import random"
   ]
  },
  {
   "cell_type": "code",
   "execution_count": 3,
   "metadata": {},
   "outputs": [],
   "source": [
    "class FakeModel(Model):\n",
    "    Default_States = dict(x=0.0, y=0.0, z=0.0)\n",
    "    Default_Params = dict(a=1.0, b=2.0, c=10.0)\n",
    "\n",
    "    def ode(self, inp1=0.0, inp2=1.0):\n",
    "        self.d_x = self.a * (1 - self.x) + self.b * self.x\n",
    "        self.y = self.x * self.c\n",
    "        self.z = self.x * self.c\n",
    "        if self.z < 1:\n",
    "            self.z = 0\n",
    "        else:\n",
    "            self.z = 100\n",
    "\n",
    "        self.y = np.exp(np.cbrt(np.sqrt(self.z))) + random.gauss(0.0, self.c)\n",
    "        self.y = (self.y > self.z) * self.y\n",
    "        tmp = (self.y > self.z) * self.y\n",
    "        self.y = (self.y < self.z) * self.y\n",
    "        self.y = (self.y >= self.z) * self.y\n",
    "        self.y = (self.y <= self.z) * self.y\n",
    "\n",
    "        self.y = (self.y > 2) * self.y\n",
    "        self.y = (self.y < 2) * self.y\n",
    "        self.y = (self.y >= 2) * self.y\n",
    "        self.y = (self.y <= 2) * self.y\n",
    "\n",
    "        self.y = (self.y > self.c) * self.y\n",
    "        self.y = (self.y < self.c) * self.y\n",
    "        self.y = (self.y >= self.c) * self.y\n",
    "        self.y = (self.y <= self.c) * self.y"
   ]
  },
  {
   "cell_type": "code",
   "execution_count": 4,
   "metadata": {},
   "outputs": [],
   "source": [
    "model = FakeModel()"
   ]
  },
  {
   "cell_type": "code",
   "execution_count": 5,
   "metadata": {},
   "outputs": [
    {
     "name": "stdout",
     "output_type": "stream",
     "text": [
      "Operator LOAD_METHOD not handled.\n",
      "Instruction(opname='LOAD_METHOD', opcode=160, arg=8, argval='exp', argrepr='exp', offset=84, starts_line=None, is_jump_target=False)\n",
      "Operator LOAD_METHOD not handled.\n",
      "Instruction(opname='LOAD_METHOD', opcode=160, arg=9, argval='cbrt', argrepr='cbrt', offset=88, starts_line=None, is_jump_target=False)\n",
      "Operator LOAD_METHOD not handled.\n",
      "Instruction(opname='LOAD_METHOD', opcode=160, arg=10, argval='sqrt', argrepr='sqrt', offset=92, starts_line=None, is_jump_target=False)\n",
      "Operator CALL_METHOD not handled.\n",
      "Instruction(opname='CALL_METHOD', opcode=161, arg=1, argval=1, argrepr='', offset=98, starts_line=None, is_jump_target=False)\n",
      "Operator CALL_METHOD not handled.\n",
      "Instruction(opname='CALL_METHOD', opcode=161, arg=1, argval=1, argrepr='', offset=100, starts_line=None, is_jump_target=False)\n",
      "Operator CALL_METHOD not handled.\n",
      "Instruction(opname='CALL_METHOD', opcode=161, arg=1, argval=1, argrepr='', offset=102, starts_line=None, is_jump_target=False)\n",
      "Operator LOAD_METHOD not handled.\n",
      "Instruction(opname='LOAD_METHOD', opcode=160, arg=12, argval='gauss', argrepr='gauss', offset=106, starts_line=None, is_jump_target=False)\n",
      "Operator CALL_METHOD not handled.\n",
      "Instruction(opname='CALL_METHOD', opcode=161, arg=2, argval=2, argrepr='', offset=114, starts_line=None, is_jump_target=False)\n"
     ]
    }
   ],
   "source": [
    "model.compile(backend='scalar', num=1)"
   ]
  },
  {
   "cell_type": "code",
   "execution_count": null,
   "metadata": {},
   "outputs": [],
   "source": []
  }
 ],
 "metadata": {
  "interpreter": {
   "hash": "e53761087f5b83f447dedb9b9cbb01a83ae5a5f1ef55f60280c52164232220af"
  },
  "kernelspec": {
   "display_name": "Python 3.8.10 64-bit ('neural': conda)",
   "language": "python",
   "name": "python3"
  },
  "language_info": {
   "codemirror_mode": {
    "name": "ipython",
    "version": 3
   },
   "file_extension": ".py",
   "mimetype": "text/x-python",
   "name": "python",
   "nbconvert_exporter": "python",
   "pygments_lexer": "ipython3",
   "version": "3.8.10"
  },
  "orig_nbformat": 4
 },
 "nbformat": 4,
 "nbformat_minor": 2
}
