{
 "cells": [
  {
   "cell_type": "markdown",
   "metadata": {},
   "source": [
    "# Code Generation"
   ]
  },
  {
   "cell_type": "code",
   "execution_count": 1,
   "metadata": {},
   "outputs": [],
   "source": [
    "%load_ext autoreload\n",
    "%autoreload 2"
   ]
  },
  {
   "cell_type": "code",
   "execution_count": 2,
   "metadata": {},
   "outputs": [],
   "source": [
    "import neural\n",
    "import numpy as np\n",
    "from neural.basemodel import Model\n",
    "from neural.model.neuron import *\n",
    "import random\n",
    "import inspect\n",
    "import math"
   ]
  },
  {
   "cell_type": "code",
   "execution_count": 3,
   "metadata": {},
   "outputs": [],
   "source": [
    "import ast\n",
    "from sympy import *\n",
    "import sympy as sp\n",
    "import math\n",
    "from neural.codegen._ast_transformers import NumPy2SymPy\n",
    "from neural.codegen.parsedmodel import ParsedModel"
   ]
  },
  {
   "cell_type": "code",
   "execution_count": 4,
   "metadata": {},
   "outputs": [],
   "source": [
    "class FakeModel(Model):\n",
    "    Default_States = dict(x=0.0, y=0.0, z=0.0)\n",
    "    Default_Params = dict(a=1.0, b=2.0, c=10.0)\n",
    "\n",
    "    def ode(self, inp1=0.0, inp2=1.0):\n",
    "        self.d_x = self.a * (1 - self.x) + self.b * self.x\n",
    "        self.y = self.x * self.c\n",
    "        self.z = self.x * self.c\n",
    "        self.z = 0 if self.z < 1 else 100\n",
    "        self.y = np.exp(np.cbrt(np.sqrt(self.z))) + random.gauss(0.0, self.c)\n",
    "        tmp = (self.y > self.z) * self.y\n",
    "        self.y = math.exp(10)"
   ]
  },
  {
   "cell_type": "code",
   "execution_count": 43,
   "metadata": {},
   "outputs": [],
   "source": [
    "mod = ParsedModel(Rinzel)"
   ]
  },
  {
   "cell_type": "code",
   "execution_count": 84,
   "metadata": {},
   "outputs": [
    {
     "data": {
      "text/plain": [
       "['StrPrinter',\n",
       " 'TableForm',\n",
       " '__all__',\n",
       " '__builtins__',\n",
       " '__cached__',\n",
       " '__doc__',\n",
       " '__file__',\n",
       " '__loader__',\n",
       " '__name__',\n",
       " '__package__',\n",
       " '__path__',\n",
       " '__spec__',\n",
       " 'c',\n",
       " 'ccode',\n",
       " 'codeprinter',\n",
       " 'conventions',\n",
       " 'cxxcode',\n",
       " 'defaults',\n",
       " 'dot',\n",
       " 'dotprint',\n",
       " 'fcode',\n",
       " 'glsl',\n",
       " 'glsl_code',\n",
       " 'gtk',\n",
       " 'jscode',\n",
       " 'julia',\n",
       " 'julia_code',\n",
       " 'lambdarepr',\n",
       " 'latex',\n",
       " 'maple',\n",
       " 'maple_code',\n",
       " 'mathematica',\n",
       " 'mathematica_code',\n",
       " 'mathml',\n",
       " 'multiline_latex',\n",
       " 'numpy',\n",
       " 'octave',\n",
       " 'octave_code',\n",
       " 'pager_print',\n",
       " 'pprint',\n",
       " 'pprint_try_use_unicode',\n",
       " 'pprint_use_unicode',\n",
       " 'precedence',\n",
       " 'pretty',\n",
       " 'pretty_print',\n",
       " 'preview',\n",
       " 'print_ccode',\n",
       " 'print_fcode',\n",
       " 'print_glsl',\n",
       " 'print_gtk',\n",
       " 'print_jscode',\n",
       " 'print_latex',\n",
       " 'print_maple_code',\n",
       " 'print_mathml',\n",
       " 'print_python',\n",
       " 'print_rcode',\n",
       " 'print_tree',\n",
       " 'printer',\n",
       " 'pycode',\n",
       " 'python',\n",
       " 'rcode',\n",
       " 'repr',\n",
       " 'rust',\n",
       " 'rust_code',\n",
       " 'srepr',\n",
       " 'sstr',\n",
       " 'sstrrepr',\n",
       " 'str',\n",
       " 'tableform',\n",
       " 'tree']"
      ]
     },
     "execution_count": 84,
     "metadata": {},
     "output_type": "execute_result"
    }
   ],
   "source": [
    "dir(sp.printing)"
   ]
  },
  {
   "cell_type": "code",
   "execution_count": 105,
   "metadata": {},
   "outputs": [],
   "source": [
    "from sympy.printing.c import C99CodePrinter\n",
    "from sympy.codegen.ast import Assignment\n",
    "\n",
    "class MyCodePrinter(C99CodePrinter):\n",
    "    def __init__(self, parsed_model, *args, **kwargs):\n",
    "        super().__init__(*args, **kwargs)\n",
    "        self.model = parsed_model\n",
    "\n",
    "    def _print_Relational(self, expr):\n",
    "        \"\"\"Convert sympy.Eq to Assignments\"\"\"\n",
    "        if expr in self.model.ode and isinstance(expr, sp.Eq):\n",
    "            lhs_code = self._print(expr.lhs)\n",
    "            rhs_code = self._print(expr.rhs)\n",
    "            return self._get_statement(\"%s = %s\" % (lhs_code, rhs_code))\n",
    "        return super()._print_Relational(expr)\n",
    "\n",
    "    def _print_Symbol(self, expr):\n",
    "        for var in ['params', 'internals', 'inputs']:\n",
    "            sym_to_name = {val.sym:val.name for val in getattr(self.model, var).values()}\n",
    "            if expr in sym_to_name:\n",
    "                if var in ['internals', 'inputs']:\n",
    "                    return sym_to_name[expr]\n",
    "                else:\n",
    "                    return f\"{var}.{sym_to_name[expr]}\"\n",
    "        return super()._print_Symbol(expr)\n",
    "\n",
    "    def _print_Function(self, expr):\n",
    "        for var in ['states', 'gstates']:\n",
    "            sym_to_name = {val.sym:val.name for val in getattr(self.model, var).values()}\n",
    "            if expr in sym_to_name:\n",
    "                return f\"{var}.{sym_to_name[expr]}\"\n",
    "        return super()._print_Function(expr)\n",
    "    \n",
    "    def _print_Derivative(self, expr):\n",
    "        for var in ['gstates']:\n",
    "            sym_to_name = {val.sym:val.name for val in getattr(self.model, var).values()}\n",
    "            if expr in sym_to_name:\n",
    "                return f\"{var}.{sym_to_name[expr]}\"\n",
    "        return super()._print_Function(expr)"
   ]
  },
  {
   "cell_type": "code",
   "execution_count": 106,
   "metadata": {},
   "outputs": [
    {
     "name": "stdout",
     "output_type": "stream",
     "text": [
      "alpha = exp((-states.v - 55.0)*1.0/10.0) - 1.0;\n",
      "beta = 0.125*exp((-states.v - 65.0)*1.0/80.0);\n",
      "alpha = ((fabs(alpha) <= 9.9999999999999995e-8) ? (\n",
      "   0.10000000000000001\n",
      ")\n",
      ": (\n",
      "   (-0.01*states.v - 0.55000000000000004)/alpha\n",
      "));\n",
      "n_infty = alpha/(alpha + beta);\n",
      "alpha = exp((-states.v - 40.0)*1.0/10.0) - 1.0;\n",
      "beta = 4.0*exp((-states.v - 65.0)*1.0/18.0);\n",
      "alpha = ((fabs(alpha) <= 9.9999999999999995e-8) ? (\n",
      "   1.0\n",
      ")\n",
      ": (\n",
      "   (-0.10000000000000001*states.v - 4.0)/alpha\n",
      "));\n",
      "m_infty = alpha/(alpha + beta);\n",
      "alpha = 0.070000000000000007*exp((-states.v - 65.0)*1.0/20.0);\n",
      "beta = 1.0*1.0/(exp((-states.v - 35.0)*1.0/10.0) + 1.0);\n",
      "h_infty = alpha/(alpha + beta);\n",
      "w_infty = params.s*1.0/(pow(params.s, 2) + 1.0)*(n_infty + params.s*(-h_infty + 1.0));\n",
      "tau_w = 1.0 + 5.0*exp((-states.v - 55.0)*(states.v + 55.0));\n",
      "gstates.w = w_infty*3.0/tau_w - states.w*3.0/tau_w;\n",
      "i_na = params.g_Na*(-params.E_Na + states.v)*pow(m_infty, 3)*(-states.w + 1.0);\n",
      "i_k = params.g_K*(-params.E_K + states.v)*pow(states.w/params.s, 4);\n",
      "i_l = params.g_L*(-params.E_L + states.v);\n",
      "gstates.v = (-i_k - i_l - i_na + stimulus)*1.0/params.C;\n"
     ]
    }
   ],
   "source": [
    "for e in mod.ode:\n",
    "    print(MyCodePrinter(mod).doprint(e))"
   ]
  },
  {
   "cell_type": "code",
   "execution_count": 125,
   "metadata": {},
   "outputs": [
    {
     "ename": "CompileException",
     "evalue": "/tmp/tmp5qm3gw47/4c0eed21c490bbd6ba856961c76c99d155fa7211.cubin.cu(10): error: unrecognized preprocessing directive\n\n1 error detected in the compilation of \"/tmp/tmp5qm3gw47/4c0eed21c490bbd6ba856961c76c99d155fa7211.cubin.cu\".\n",
     "output_type": "error",
     "traceback": [
      "\u001b[0;31m---------------------------------------------------------------------------\u001b[0m",
      "\u001b[0;31mNVRTCError\u001b[0m                                Traceback (most recent call last)",
      "\u001b[0;32m~/anaconda3/envs/neural/lib/python3.9/site-packages/cupy/cuda/compiler.py\u001b[0m in \u001b[0;36mcompile\u001b[0;34m(self, options, log_stream)\u001b[0m\n\u001b[1;32m    680\u001b[0m                     \u001b[0mnvrtc\u001b[0m\u001b[0;34m.\u001b[0m\u001b[0maddNameExpression\u001b[0m\u001b[0;34m(\u001b[0m\u001b[0mself\u001b[0m\u001b[0;34m.\u001b[0m\u001b[0mptr\u001b[0m\u001b[0;34m,\u001b[0m \u001b[0mker\u001b[0m\u001b[0;34m)\u001b[0m\u001b[0;34m\u001b[0m\u001b[0;34m\u001b[0m\u001b[0m\n\u001b[0;32m--> 681\u001b[0;31m             \u001b[0mnvrtc\u001b[0m\u001b[0;34m.\u001b[0m\u001b[0mcompileProgram\u001b[0m\u001b[0;34m(\u001b[0m\u001b[0mself\u001b[0m\u001b[0;34m.\u001b[0m\u001b[0mptr\u001b[0m\u001b[0;34m,\u001b[0m \u001b[0moptions\u001b[0m\u001b[0;34m)\u001b[0m\u001b[0;34m\u001b[0m\u001b[0;34m\u001b[0m\u001b[0m\n\u001b[0m\u001b[1;32m    682\u001b[0m             \u001b[0mmapping\u001b[0m \u001b[0;34m=\u001b[0m \u001b[0;32mNone\u001b[0m\u001b[0;34m\u001b[0m\u001b[0;34m\u001b[0m\u001b[0m\n",
      "\u001b[0;32mcupy_backends/cuda/libs/nvrtc.pyx\u001b[0m in \u001b[0;36mcupy_backends.cuda.libs.nvrtc.compileProgram\u001b[0;34m()\u001b[0m\n",
      "\u001b[0;32mcupy_backends/cuda/libs/nvrtc.pyx\u001b[0m in \u001b[0;36mcupy_backends.cuda.libs.nvrtc.compileProgram\u001b[0;34m()\u001b[0m\n",
      "\u001b[0;32mcupy_backends/cuda/libs/nvrtc.pyx\u001b[0m in \u001b[0;36mcupy_backends.cuda.libs.nvrtc.check_status\u001b[0;34m()\u001b[0m\n",
      "\u001b[0;31mNVRTCError\u001b[0m: NVRTC_ERROR_COMPILATION (6)",
      "\nDuring handling of the above exception, another exception occurred:\n",
      "\u001b[0;31mCompileException\u001b[0m                          Traceback (most recent call last)",
      "\u001b[0;32m/tmp/ipykernel_2312022/1419830480.py\u001b[0m in \u001b[0;36m<module>\u001b[0;34m\u001b[0m\n\u001b[1;32m     17\u001b[0m                       \u001b[0mname_expressions\u001b[0m\u001b[0;34m=\u001b[0m\u001b[0;34m(\u001b[0m\u001b[0;34m'affect<float3>'\u001b[0m\u001b[0;34m,\u001b[0m\u001b[0;34m)\u001b[0m\u001b[0;34m,\u001b[0m\u001b[0;34m\u001b[0m\u001b[0;34m\u001b[0m\u001b[0m\n\u001b[1;32m     18\u001b[0m                       options=('-std=c++11',))\n\u001b[0;32m---> 19\u001b[0;31m \u001b[0mkernel\u001b[0m \u001b[0;34m=\u001b[0m \u001b[0mmodule\u001b[0m\u001b[0;34m.\u001b[0m\u001b[0mget_function\u001b[0m\u001b[0;34m(\u001b[0m\u001b[0;34m'affect<float3>'\u001b[0m\u001b[0;34m)\u001b[0m\u001b[0;34m\u001b[0m\u001b[0;34m\u001b[0m\u001b[0m\n\u001b[0m\u001b[1;32m     20\u001b[0m \u001b[0;34m\u001b[0m\u001b[0m\n\u001b[1;32m     21\u001b[0m float3 = np.dtype( { 'names': ['x', 'y', 'z'],\n",
      "\u001b[0;32mcupy/_core/raw.pyx\u001b[0m in \u001b[0;36mcupy._core.raw.RawModule.get_function\u001b[0;34m()\u001b[0m\n",
      "\u001b[0;32mcupy/_core/raw.pyx\u001b[0m in \u001b[0;36mcupy._core.raw.RawModule.module.__get__\u001b[0;34m()\u001b[0m\n",
      "\u001b[0;32mcupy/_core/raw.pyx\u001b[0m in \u001b[0;36mcupy._core.raw.RawModule._module\u001b[0;34m()\u001b[0m\n",
      "\u001b[0;32mcupy/_util.pyx\u001b[0m in \u001b[0;36mcupy._util.memoize.decorator.ret\u001b[0;34m()\u001b[0m\n",
      "\u001b[0;32mcupy/_core/raw.pyx\u001b[0m in \u001b[0;36mcupy._core.raw._get_raw_module\u001b[0;34m()\u001b[0m\n",
      "\u001b[0;32mcupy/_core/core.pyx\u001b[0m in \u001b[0;36mcupy._core.core.compile_with_cache\u001b[0;34m()\u001b[0m\n",
      "\u001b[0;32mcupy/_core/core.pyx\u001b[0m in \u001b[0;36mcupy._core.core.compile_with_cache\u001b[0;34m()\u001b[0m\n",
      "\u001b[0;32m~/anaconda3/envs/neural/lib/python3.9/site-packages/cupy/cuda/compiler.py\u001b[0m in \u001b[0;36m_compile_module_with_cache\u001b[0;34m(source, options, arch, cache_dir, extra_source, backend, enable_cooperative_groups, name_expressions, log_stream, jitify)\u001b[0m\n\u001b[1;32m    486\u001b[0m             name_expressions, log_stream, cache_in_memory)\n\u001b[1;32m    487\u001b[0m     \u001b[0;32melse\u001b[0m\u001b[0;34m:\u001b[0m\u001b[0;34m\u001b[0m\u001b[0;34m\u001b[0m\u001b[0m\n\u001b[0;32m--> 488\u001b[0;31m         return _compile_with_cache_cuda(\n\u001b[0m\u001b[1;32m    489\u001b[0m             \u001b[0msource\u001b[0m\u001b[0;34m,\u001b[0m \u001b[0moptions\u001b[0m\u001b[0;34m,\u001b[0m \u001b[0march\u001b[0m\u001b[0;34m,\u001b[0m \u001b[0mcache_dir\u001b[0m\u001b[0;34m,\u001b[0m \u001b[0mextra_source\u001b[0m\u001b[0;34m,\u001b[0m \u001b[0mbackend\u001b[0m\u001b[0;34m,\u001b[0m\u001b[0;34m\u001b[0m\u001b[0;34m\u001b[0m\u001b[0m\n\u001b[1;32m    490\u001b[0m             \u001b[0menable_cooperative_groups\u001b[0m\u001b[0;34m,\u001b[0m \u001b[0mname_expressions\u001b[0m\u001b[0;34m,\u001b[0m \u001b[0mlog_stream\u001b[0m\u001b[0;34m,\u001b[0m\u001b[0;34m\u001b[0m\u001b[0;34m\u001b[0m\u001b[0m\n",
      "\u001b[0;32m~/anaconda3/envs/neural/lib/python3.9/site-packages/cupy/cuda/compiler.py\u001b[0m in \u001b[0;36m_compile_with_cache_cuda\u001b[0;34m(source, options, arch, cache_dir, extra_source, backend, enable_cooperative_groups, name_expressions, log_stream, cache_in_memory, jitify)\u001b[0m\n\u001b[1;32m    564\u001b[0m     \u001b[0;32mif\u001b[0m \u001b[0mbackend\u001b[0m \u001b[0;34m==\u001b[0m \u001b[0;34m'nvrtc'\u001b[0m\u001b[0;34m:\u001b[0m\u001b[0;34m\u001b[0m\u001b[0;34m\u001b[0m\u001b[0m\n\u001b[1;32m    565\u001b[0m         \u001b[0mcu_name\u001b[0m \u001b[0;34m=\u001b[0m \u001b[0;34m''\u001b[0m \u001b[0;32mif\u001b[0m \u001b[0mcache_in_memory\u001b[0m \u001b[0;32melse\u001b[0m \u001b[0mname\u001b[0m \u001b[0;34m+\u001b[0m \u001b[0;34m'.cu'\u001b[0m\u001b[0;34m\u001b[0m\u001b[0;34m\u001b[0m\u001b[0m\n\u001b[0;32m--> 566\u001b[0;31m         ptx, mapping = compile_using_nvrtc(\n\u001b[0m\u001b[1;32m    567\u001b[0m             \u001b[0msource\u001b[0m\u001b[0;34m,\u001b[0m \u001b[0moptions\u001b[0m\u001b[0;34m,\u001b[0m \u001b[0march\u001b[0m\u001b[0;34m,\u001b[0m \u001b[0mcu_name\u001b[0m\u001b[0;34m,\u001b[0m \u001b[0mname_expressions\u001b[0m\u001b[0;34m,\u001b[0m\u001b[0;34m\u001b[0m\u001b[0;34m\u001b[0m\u001b[0m\n\u001b[1;32m    568\u001b[0m             log_stream, cache_in_memory, jitify)\n",
      "\u001b[0;32m~/anaconda3/envs/neural/lib/python3.9/site-packages/cupy/cuda/compiler.py\u001b[0m in \u001b[0;36mcompile_using_nvrtc\u001b[0;34m(source, options, arch, filename, name_expressions, log_stream, cache_in_memory, jitify)\u001b[0m\n\u001b[1;32m    315\u001b[0m                 \u001b[0mcu_file\u001b[0m\u001b[0;34m.\u001b[0m\u001b[0mwrite\u001b[0m\u001b[0;34m(\u001b[0m\u001b[0msource\u001b[0m\u001b[0;34m)\u001b[0m\u001b[0;34m\u001b[0m\u001b[0;34m\u001b[0m\u001b[0m\n\u001b[1;32m    316\u001b[0m \u001b[0;34m\u001b[0m\u001b[0m\n\u001b[0;32m--> 317\u001b[0;31m             return _compile(source, options, cu_path,\n\u001b[0m\u001b[1;32m    318\u001b[0m                             name_expressions, log_stream, jitify)\n\u001b[1;32m    319\u001b[0m     \u001b[0;32melse\u001b[0m\u001b[0;34m:\u001b[0m\u001b[0;34m\u001b[0m\u001b[0;34m\u001b[0m\u001b[0m\n",
      "\u001b[0;32m~/anaconda3/envs/neural/lib/python3.9/site-packages/cupy/cuda/compiler.py\u001b[0m in \u001b[0;36m_compile\u001b[0;34m(source, options, cu_path, name_expressions, log_stream, jitify)\u001b[0m\n\u001b[1;32m    299\u001b[0m \u001b[0;34m\u001b[0m\u001b[0m\n\u001b[1;32m    300\u001b[0m         \u001b[0;32mtry\u001b[0m\u001b[0;34m:\u001b[0m\u001b[0;34m\u001b[0m\u001b[0;34m\u001b[0m\u001b[0m\n\u001b[0;32m--> 301\u001b[0;31m             \u001b[0mcompiled_obj\u001b[0m\u001b[0;34m,\u001b[0m \u001b[0mmapping\u001b[0m \u001b[0;34m=\u001b[0m \u001b[0mprog\u001b[0m\u001b[0;34m.\u001b[0m\u001b[0mcompile\u001b[0m\u001b[0;34m(\u001b[0m\u001b[0moptions\u001b[0m\u001b[0;34m,\u001b[0m \u001b[0mlog_stream\u001b[0m\u001b[0;34m)\u001b[0m\u001b[0;34m\u001b[0m\u001b[0;34m\u001b[0m\u001b[0m\n\u001b[0m\u001b[1;32m    302\u001b[0m         \u001b[0;32mexcept\u001b[0m \u001b[0mCompileException\u001b[0m \u001b[0;32mas\u001b[0m \u001b[0me\u001b[0m\u001b[0;34m:\u001b[0m\u001b[0;34m\u001b[0m\u001b[0;34m\u001b[0m\u001b[0m\n\u001b[1;32m    303\u001b[0m             dump = _get_bool_env_variable(\n",
      "\u001b[0;32m~/anaconda3/envs/neural/lib/python3.9/site-packages/cupy/cuda/compiler.py\u001b[0m in \u001b[0;36mcompile\u001b[0;34m(self, options, log_stream)\u001b[0m\n\u001b[1;32m    696\u001b[0m         \u001b[0;32mexcept\u001b[0m \u001b[0mnvrtc\u001b[0m\u001b[0;34m.\u001b[0m\u001b[0mNVRTCError\u001b[0m\u001b[0;34m:\u001b[0m\u001b[0;34m\u001b[0m\u001b[0;34m\u001b[0m\u001b[0m\n\u001b[1;32m    697\u001b[0m             \u001b[0mlog\u001b[0m \u001b[0;34m=\u001b[0m \u001b[0mnvrtc\u001b[0m\u001b[0;34m.\u001b[0m\u001b[0mgetProgramLog\u001b[0m\u001b[0;34m(\u001b[0m\u001b[0mself\u001b[0m\u001b[0;34m.\u001b[0m\u001b[0mptr\u001b[0m\u001b[0;34m)\u001b[0m\u001b[0;34m\u001b[0m\u001b[0;34m\u001b[0m\u001b[0m\n\u001b[0;32m--> 698\u001b[0;31m             raise CompileException(log, self.src, self.name, options,\n\u001b[0m\u001b[1;32m    699\u001b[0m                                    'nvrtc' if not runtime.is_hip else 'hiprtc')\n\u001b[1;32m    700\u001b[0m \u001b[0;34m\u001b[0m\u001b[0m\n",
      "\u001b[0;31mCompileException\u001b[0m: /tmp/tmp5qm3gw47/4c0eed21c490bbd6ba856961c76c99d155fa7211.cubin.cu(10): error: unrecognized preprocessing directive\n\n1 error detected in the compilation of \"/tmp/tmp5qm3gw47/4c0eed21c490bbd6ba856961c76c99d155fa7211.cubin.cu\".\n"
     ]
    }
   ],
   "source": [
    "import numpy as np\n",
    "import cupy as cp\n",
    "\n",
    "code = r\"\"\"\n",
    "    template <typename T>\n",
    "    __global__ void affect(T* const __restrict__ output,\n",
    "                         const T arg0, const T arg1,\n",
    "                         const size_t nelements) {\n",
    "        ptrdiff_t i = blockIdx.x * blockDim.x + threadIdx.x;\n",
    "        if (i >= nelements)\n",
    "            return;\n",
    "        output[i] = (i%2 == 0 ? arg0 : arg1);\n",
    "        # output[i].x = arg0.x;\n",
    "    }\n",
    "\"\"\"\n",
    "module = cp.RawModule(code=code,\n",
    "                      name_expressions=('affect<float3>',),\n",
    "                      options=('-std=c++11',))\n",
    "kernel = module.get_function('affect<float3>')\n",
    "\n",
    "float3 = np.dtype( { 'names': ['x', 'y', 'z'],\n",
    "                     'formats': [np.float32]*3 } )\n",
    "\n",
    "arg0 = np.random.rand(3).astype(np.float32).view(float3)\n",
    "arg1 = np.random.rand(3).astype(np.float32).view(float3)\n",
    "\n",
    "N = 512\n",
    "h_output = np.empty(dtype=float3, shape=N)\n",
    "d_output = cp.asarray(h_output.view(np.float32))\n",
    "\n",
    "grid = (N,)\n",
    "block = (256,)\n",
    "args = (d_output, arg0, arg1, np.uint64(N))\n",
    "kernel(grid, block, args)\n",
    "\n",
    "h_output[0::2] = arg0\n",
    "h_output[1::2] = arg1\n",
    "\n",
    "np.testing.assert_array_equal(h_output,\n",
    "                              cp.asnumpy(d_output).view(float3))"
   ]
  },
  {
   "cell_type": "code",
   "execution_count": 123,
   "metadata": {},
   "outputs": [
    {
     "ename": "Exception",
     "evalue": "Unknown keyword \"T\"",
     "output_type": "error",
     "traceback": [
      "\u001b[0;31m---------------------------------------------------------------------------\u001b[0m",
      "\u001b[0;31mException\u001b[0m                                 Traceback (most recent call last)",
      "\u001b[0;32m/tmp/ipykernel_2312022/2184327857.py\u001b[0m in \u001b[0;36m<module>\u001b[0;34m\u001b[0m\n\u001b[1;32m      6\u001b[0m \u001b[0mh_output\u001b[0m \u001b[0;34m=\u001b[0m \u001b[0mnp\u001b[0m\u001b[0;34m.\u001b[0m\u001b[0mempty\u001b[0m\u001b[0;34m(\u001b[0m\u001b[0mdtype\u001b[0m\u001b[0;34m=\u001b[0m\u001b[0mfloat3\u001b[0m\u001b[0;34m,\u001b[0m \u001b[0mshape\u001b[0m\u001b[0;34m=\u001b[0m\u001b[0mN\u001b[0m\u001b[0;34m)\u001b[0m\u001b[0;34m\u001b[0m\u001b[0;34m\u001b[0m\u001b[0m\n\u001b[1;32m      7\u001b[0m \u001b[0md_output\u001b[0m \u001b[0;34m=\u001b[0m \u001b[0mcp\u001b[0m\u001b[0;34m.\u001b[0m\u001b[0masarray\u001b[0m\u001b[0;34m(\u001b[0m\u001b[0mh_output\u001b[0m\u001b[0;34m.\u001b[0m\u001b[0mview\u001b[0m\u001b[0;34m(\u001b[0m\u001b[0mnp\u001b[0m\u001b[0;34m.\u001b[0m\u001b[0mfloat32\u001b[0m\u001b[0;34m)\u001b[0m\u001b[0;34m)\u001b[0m\u001b[0;34m\u001b[0m\u001b[0;34m\u001b[0m\u001b[0m\n\u001b[0;32m----> 8\u001b[0;31m kernel = cp.ElementwiseKernel(\n\u001b[0m\u001b[1;32m      9\u001b[0m    \u001b[0;34m\"T in1, T in2\"\u001b[0m\u001b[0;34m,\u001b[0m\u001b[0;34m\u001b[0m\u001b[0;34m\u001b[0m\u001b[0m\n\u001b[1;32m     10\u001b[0m    \u001b[0;34m\"T out\"\u001b[0m\u001b[0;34m\u001b[0m\u001b[0;34m\u001b[0m\u001b[0m\n",
      "\u001b[0;32mcupy/_core/_kernel.pyx\u001b[0m in \u001b[0;36mcupy._core._kernel.ElementwiseKernel.__init__\u001b[0;34m()\u001b[0m\n",
      "\u001b[0;32mcupy/_util.pyx\u001b[0m in \u001b[0;36mcupy._util.memoize.decorator.ret\u001b[0;34m()\u001b[0m\n",
      "\u001b[0;32mcupy/_core/_kernel.pyx\u001b[0m in \u001b[0;36mcupy._core._kernel._get_param_info\u001b[0;34m()\u001b[0m\n",
      "\u001b[0;32mcupy/_core/_kernel.pyx\u001b[0m in \u001b[0;36mcupy._core._kernel.ParameterInfo.__init__\u001b[0;34m()\u001b[0m\n",
      "\u001b[0;31mException\u001b[0m: Unknown keyword \"T\""
     ]
    }
   ],
   "source": [
    "float3 = np.dtype( { 'names': ['x', 'y', 'z'],\n",
    "                     'formats': [np.float32]*3 } )\n",
    "\n",
    "arg0 = np.random.rand(3).astype(np.float32).view(float3)\n",
    "arg1 = np.random.rand(3).astype(np.float32).view(float3)\n",
    "h_output = np.empty(dtype=float3, shape=N)\n",
    "d_output = cp.asarray(h_output.view(np.float32))\n",
    "kernel = cp.ElementwiseKernel(\n",
    "   \"T in1, T in2\",\n",
    "   \"T out\"\n",
    "   \"\"\"\n",
    "      out.x = in1.x + in2.x;\n",
    "      out.y = in1.y + in2.y;\n",
    "      out.z = in1.z + in2.z;\n",
    "   \"\"\",\n",
    "   \"add\"\n",
    ")"
   ]
  },
  {
   "cell_type": "code",
   "execution_count": 115,
   "metadata": {},
   "outputs": [
    {
     "data": {
      "text/plain": [
       "array([0.41416034, 0.5350983 , 0.638774  , ..., 0.810269  , 0.15582092,\n",
       "       0.74441326], dtype=float32)"
      ]
     },
     "execution_count": 115,
     "metadata": {},
     "output_type": "execute_result"
    }
   ],
   "source": [
    "d_output"
   ]
  },
  {
   "cell_type": "code",
   "execution_count": 110,
   "metadata": {},
   "outputs": [
    {
     "data": {
      "text/plain": [
       "array([(0.810269, 0.15582092, 0.74441326)],\n",
       "      dtype=[('x', '<f4'), ('y', '<f4'), ('z', '<f4')])"
      ]
     },
     "execution_count": 110,
     "metadata": {},
     "output_type": "execute_result"
    }
   ],
   "source": [
    "arg1"
   ]
  },
  {
   "cell_type": "code",
   "execution_count": 108,
   "metadata": {},
   "outputs": [
    {
     "data": {
      "text/plain": [
       "dtype([('x', '<f4'), ('y', '<f4'), ('z', '<f4')])"
      ]
     },
     "execution_count": 108,
     "metadata": {},
     "output_type": "execute_result"
    }
   ],
   "source": [
    "float3"
   ]
  },
  {
   "cell_type": "code",
   "execution_count": null,
   "metadata": {},
   "outputs": [],
   "source": []
  }
 ],
 "metadata": {
  "interpreter": {
   "hash": "e53761087f5b83f447dedb9b9cbb01a83ae5a5f1ef55f60280c52164232220af"
  },
  "kernelspec": {
   "display_name": "Python 3.8.10 64-bit ('neural': conda)",
   "language": "python",
   "name": "python3"
  },
  "language_info": {
   "codemirror_mode": {
    "name": "ipython",
    "version": 3
   },
   "file_extension": ".py",
   "mimetype": "text/x-python",
   "name": "python",
   "nbconvert_exporter": "python",
   "pygments_lexer": "ipython3",
   "version": "3.9.7"
  },
  "orig_nbformat": 4
 },
 "nbformat": 4,
 "nbformat_minor": 2
}
