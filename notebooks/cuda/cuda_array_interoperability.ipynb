{
 "cells": [
  {
   "cell_type": "code",
   "execution_count": 7,
   "metadata": {},
   "outputs": [],
   "source": [
    "import numpy as np\n",
    "import cupy as cp\n",
    "import pycuda.driver as drv\n",
    "import torch\n"
   ]
  },
  {
   "cell_type": "code",
   "execution_count": 2,
   "metadata": {},
   "outputs": [
    {
     "data": {
      "text/plain": [
       "94446133123200"
      ]
     },
     "execution_count": 2,
     "metadata": {},
     "output_type": "execute_result"
    }
   ],
   "source": [
    "s = cp.cuda.Stream()\n",
    "cp.cuda.driver.ctxGetCurrent()"
   ]
  },
  {
   "cell_type": "code",
   "execution_count": 3,
   "metadata": {},
   "outputs": [],
   "source": [
    "import pycuda.autoprimaryctx\n",
    "import pycuda.gpuarray as garray"
   ]
  },
  {
   "cell_type": "code",
   "execution_count": 38,
   "metadata": {},
   "outputs": [],
   "source": [
    "import sympy as sp"
   ]
  },
  {
   "cell_type": "code",
   "execution_count": 45,
   "metadata": {},
   "outputs": [],
   "source": [
    "value = np.random.randn(10,15).tolist()\n",
    "\n",
    "a = np.asarray(value, dtype=float)\n",
    "# a_pycuda = garray.to_gpu(value, float)\n",
    "# a_cp = cp.asarray(value, float)\n",
    "# a_torch = torch.as_tensor(value, dtype=float, device='cuda')"
   ]
  },
  {
   "cell_type": "code",
   "execution_count": 58,
   "metadata": {},
   "outputs": [],
   "source": [
    "b = a.view(np.recarray)"
   ]
  },
  {
   "cell_type": "code",
   "execution_count": 64,
   "metadata": {},
   "outputs": [],
   "source": [
    "dtype= np.dtype({'names':[ 'x', 'y', 'z'], 'formats': [np.float_, np.int_, np.float_]})"
   ]
  },
  {
   "cell_type": "code",
   "execution_count": 68,
   "metadata": {},
   "outputs": [],
   "source": [
    "a = np.random.randn(10, 3).astype(dtype).view(np.recarray)"
   ]
  },
  {
   "cell_type": "code",
   "execution_count": 75,
   "metadata": {},
   "outputs": [],
   "source": [
    "b = cp.empty(a.shape, dtype=dtype)\n",
    "b.set(a)"
   ]
  },
  {
   "cell_type": "code",
   "execution_count": 78,
   "metadata": {},
   "outputs": [
    {
     "ename": "TypeError",
     "evalue": "Wrong type ((<class 'numpy.void'>,)) of arguments for cupy_absolute",
     "output_type": "error",
     "traceback": [
      "\u001b[0;31m---------------------------------------------------------------------------\u001b[0m",
      "\u001b[0;31mTypeError\u001b[0m                                 Traceback (most recent call last)",
      "Input \u001b[0;32mIn [78]\u001b[0m, in \u001b[0;36m<module>\u001b[0;34m\u001b[0m\n\u001b[0;32m----> 1\u001b[0m \u001b[43mcp\u001b[49m\u001b[38;5;241;43m.\u001b[39;49m\u001b[43mabs\u001b[49m\u001b[43m(\u001b[49m\u001b[43mb\u001b[49m\u001b[43m)\u001b[49m\n",
      "File \u001b[0;32mcupy/_core/_kernel.pyx:1203\u001b[0m, in \u001b[0;36mcupy._core._kernel.ufunc.__call__\u001b[0;34m()\u001b[0m\n",
      "File \u001b[0;32mcupy/_core/_kernel.pyx:1372\u001b[0m, in \u001b[0;36mcupy._core._kernel._Ops.guess_routine\u001b[0;34m()\u001b[0m\n",
      "\u001b[0;31mTypeError\u001b[0m: Wrong type ((<class 'numpy.void'>,)) of arguments for cupy_absolute"
     ]
    }
   ],
   "source": [
    "cp.abs(b)"
   ]
  },
  {
   "cell_type": "code",
   "execution_count": 70,
   "metadata": {},
   "outputs": [
    {
     "ename": "ValueError",
     "evalue": "Unsupported dtype (numpy.record, [('x', '<f8'), ('y', '<i8'), ('z', '<f8')])",
     "output_type": "error",
     "traceback": [
      "\u001b[0;31m---------------------------------------------------------------------------\u001b[0m",
      "\u001b[0;31mValueError\u001b[0m                                Traceback (most recent call last)",
      "Input \u001b[0;32mIn [70]\u001b[0m, in \u001b[0;36m<module>\u001b[0;34m\u001b[0m\n\u001b[0;32m----> 1\u001b[0m \u001b[43mcp\u001b[49m\u001b[38;5;241;43m.\u001b[39;49m\u001b[43masarray\u001b[49m\u001b[43m(\u001b[49m\u001b[43ma\u001b[49m\u001b[43m)\u001b[49m\n",
      "File \u001b[0;32m~/anaconda3/envs/neural/lib/python3.8/site-packages/cupy/_creation/from_data.py:76\u001b[0m, in \u001b[0;36masarray\u001b[0;34m(a, dtype, order)\u001b[0m\n\u001b[1;32m     49\u001b[0m \u001b[38;5;28;01mdef\u001b[39;00m \u001b[38;5;21masarray\u001b[39m(a, dtype\u001b[38;5;241m=\u001b[39m\u001b[38;5;28;01mNone\u001b[39;00m, order\u001b[38;5;241m=\u001b[39m\u001b[38;5;28;01mNone\u001b[39;00m):\n\u001b[1;32m     50\u001b[0m     \u001b[38;5;124;03m\"\"\"Converts an object to array.\u001b[39;00m\n\u001b[1;32m     51\u001b[0m \n\u001b[1;32m     52\u001b[0m \u001b[38;5;124;03m    This is equivalent to ``array(a, dtype, copy=False)``.\u001b[39;00m\n\u001b[0;32m   (...)\u001b[0m\n\u001b[1;32m     74\u001b[0m \n\u001b[1;32m     75\u001b[0m \u001b[38;5;124;03m    \"\"\"\u001b[39;00m\n\u001b[0;32m---> 76\u001b[0m     \u001b[38;5;28;01mreturn\u001b[39;00m \u001b[43m_core\u001b[49m\u001b[38;5;241;43m.\u001b[39;49m\u001b[43marray\u001b[49m\u001b[43m(\u001b[49m\u001b[43ma\u001b[49m\u001b[43m,\u001b[49m\u001b[43m \u001b[49m\u001b[43mdtype\u001b[49m\u001b[43m,\u001b[49m\u001b[43m \u001b[49m\u001b[38;5;28;43;01mFalse\u001b[39;49;00m\u001b[43m,\u001b[49m\u001b[43m \u001b[49m\u001b[43morder\u001b[49m\u001b[43m)\u001b[49m\n",
      "File \u001b[0;32mcupy/_core/core.pyx:2249\u001b[0m, in \u001b[0;36mcupy._core.core.array\u001b[0;34m()\u001b[0m\n",
      "File \u001b[0;32mcupy/_core/core.pyx:2270\u001b[0m, in \u001b[0;36mcupy._core.core.array\u001b[0;34m()\u001b[0m\n",
      "File \u001b[0;32mcupy/_core/core.pyx:2398\u001b[0m, in \u001b[0;36mcupy._core.core._array_default\u001b[0;34m()\u001b[0m\n",
      "\u001b[0;31mValueError\u001b[0m: Unsupported dtype (numpy.record, [('x', '<f8'), ('y', '<i8'), ('z', '<f8')])"
     ]
    }
   ],
   "source": [
    "cp.asarray(a)"
   ]
  },
  {
   "cell_type": "code",
   "execution_count": 63,
   "metadata": {},
   "outputs": [
    {
     "data": {
      "text/plain": [
       "array([[-0.28322866,  1.31046587, -0.28454656,  1.81674908, -0.01119491,\n",
       "        -0.81663423, -0.05573927,  1.66537851,  0.09989158, -1.05034312,\n",
       "        -0.53409308,  0.91470307, -1.98390357, -0.06409027,  0.20184655],\n",
       "       [ 2.29723725, -2.05374366,  1.62900998, -1.49553315, -0.64859651,\n",
       "        -0.30070889, -0.37873686,  0.73233141, -0.3831772 ,  1.59960095,\n",
       "        -0.1310352 , -0.02048398,  0.66022252, -1.13966363,  0.96602675],\n",
       "       [-0.05906964,  0.40385257,  0.60172368, -0.15493863, -1.5256004 ,\n",
       "         0.342295  , -1.41092024,  0.77355015, -2.78972553, -1.0508179 ,\n",
       "         0.72802405,  0.35254193, -0.15767821, -0.25352298,  0.16065977],\n",
       "       [ 0.5969111 ,  0.23037335,  1.62221741, -0.96698191, -1.49819656,\n",
       "        -1.04113677,  0.10177433,  0.16266169,  0.73465572,  1.65144004,\n",
       "        -2.07822497,  0.7938752 ,  0.08807907, -1.06902852,  1.60059562],\n",
       "       [-0.23965714,  0.40095116,  0.79233786, -0.33191428,  0.85934906,\n",
       "         0.89154937, -0.39371164, -1.02311937,  0.64712247, -1.00822432,\n",
       "         1.35364198,  0.13701974, -1.70440541, -0.46950063,  1.81971953],\n",
       "       [-1.2623041 ,  0.90644206, -0.71352802, -0.43578339,  0.55812306,\n",
       "         2.05109265,  0.59036439,  0.24148852,  0.78506996, -1.99863362,\n",
       "         1.38311904,  0.1064967 ,  1.01931781, -0.88517449, -0.3584671 ],\n",
       "       [-0.61559618,  0.89042151,  0.3187921 ,  2.71846621,  0.49676561,\n",
       "         0.5265263 , -0.13604247,  1.5016406 ,  0.63177525, -0.07487695,\n",
       "        -1.09457428,  0.96406526, -0.50915735,  0.62296111,  1.59064336],\n",
       "       [-0.82524738,  1.49838028, -0.43032017, -0.05500999,  1.72308197,\n",
       "        -1.50023133, -1.87256246, -1.56971657, -0.01262364, -1.29784318,\n",
       "        -0.653767  ,  0.70190074,  0.16146467,  0.526267  , -0.58069936],\n",
       "       [ 0.68164297, -0.72029938,  1.30275725,  1.28820931, -2.33313873,\n",
       "         0.26488965,  2.29137854, -0.93800721, -1.01597836, -0.60719474,\n",
       "        -1.10990737,  2.65996297, -0.11968496,  0.98109821, -1.15344897],\n",
       "       [ 1.09313813,  2.30187298, -0.66575985, -0.35992525,  1.20255849,\n",
       "        -0.56844005,  0.04009215, -1.16720849, -0.79031699,  0.8872339 ,\n",
       "         0.85619097,  0.29062015,  0.6448218 , -0.18064837, -2.0140266 ]])"
      ]
     },
     "execution_count": 63,
     "metadata": {},
     "output_type": "execute_result"
    }
   ],
   "source": [
    "cp.asarray(b)"
   ]
  },
  {
   "cell_type": "code",
   "execution_count": 62,
   "metadata": {},
   "outputs": [
    {
     "ename": "TypeError",
     "evalue": "argument of type 'NoneType' is not iterable",
     "output_type": "error",
     "traceback": [
      "\u001b[0;31m---------------------------------------------------------------------------\u001b[0m",
      "\u001b[0;31mTypeError\u001b[0m                                 Traceback (most recent call last)",
      "Input \u001b[0;32mIn [62]\u001b[0m, in \u001b[0;36m<module>\u001b[0;34m\u001b[0m\n\u001b[0;32m----> 1\u001b[0m \u001b[43mget_ipython\u001b[49m\u001b[43m(\u001b[49m\u001b[43m)\u001b[49m\u001b[38;5;241;43m.\u001b[39;49m\u001b[43mrun_line_magic\u001b[49m\u001b[43m(\u001b[49m\u001b[38;5;124;43m'\u001b[39;49m\u001b[38;5;124;43mtimeit\u001b[39;49m\u001b[38;5;124;43m'\u001b[39;49m\u001b[43m,\u001b[49m\u001b[43m \u001b[49m\u001b[38;5;124;43m\"\u001b[39;49m\u001b[38;5;124;43m'\u001b[39;49m\u001b[38;5;124;43mx\u001b[39;49m\u001b[38;5;124;43m'\u001b[39;49m\u001b[38;5;124;43m in b.dtype.fields\u001b[39;49m\u001b[38;5;124;43m\"\u001b[39;49m\u001b[43m)\u001b[49m\n",
      "File \u001b[0;32m~/anaconda3/envs/neural/lib/python3.8/site-packages/IPython/core/interactiveshell.py:2204\u001b[0m, in \u001b[0;36mInteractiveShell.run_line_magic\u001b[0;34m(self, magic_name, line, _stack_depth)\u001b[0m\n\u001b[1;32m   2202\u001b[0m     kwargs[\u001b[38;5;124m'\u001b[39m\u001b[38;5;124mlocal_ns\u001b[39m\u001b[38;5;124m'\u001b[39m] \u001b[38;5;241m=\u001b[39m \u001b[38;5;28mself\u001b[39m\u001b[38;5;241m.\u001b[39mget_local_scope(stack_depth)\n\u001b[1;32m   2203\u001b[0m \u001b[38;5;28;01mwith\u001b[39;00m \u001b[38;5;28mself\u001b[39m\u001b[38;5;241m.\u001b[39mbuiltin_trap:\n\u001b[0;32m-> 2204\u001b[0m     result \u001b[38;5;241m=\u001b[39m \u001b[43mfn\u001b[49m\u001b[43m(\u001b[49m\u001b[38;5;241;43m*\u001b[39;49m\u001b[43margs\u001b[49m\u001b[43m,\u001b[49m\u001b[43m \u001b[49m\u001b[38;5;241;43m*\u001b[39;49m\u001b[38;5;241;43m*\u001b[39;49m\u001b[43mkwargs\u001b[49m\u001b[43m)\u001b[49m\n\u001b[1;32m   2205\u001b[0m \u001b[38;5;28;01mreturn\u001b[39;00m result\n",
      "File \u001b[0;32m~/anaconda3/envs/neural/lib/python3.8/site-packages/IPython/core/magics/execution.py:1162\u001b[0m, in \u001b[0;36mExecutionMagics.timeit\u001b[0;34m(self, line, cell, local_ns)\u001b[0m\n\u001b[1;32m   1160\u001b[0m \u001b[38;5;28;01mfor\u001b[39;00m index \u001b[38;5;129;01min\u001b[39;00m \u001b[38;5;28mrange\u001b[39m(\u001b[38;5;241m0\u001b[39m, \u001b[38;5;241m10\u001b[39m):\n\u001b[1;32m   1161\u001b[0m     number \u001b[38;5;241m=\u001b[39m \u001b[38;5;241m10\u001b[39m \u001b[38;5;241m*\u001b[39m\u001b[38;5;241m*\u001b[39m index\n\u001b[0;32m-> 1162\u001b[0m     time_number \u001b[38;5;241m=\u001b[39m \u001b[43mtimer\u001b[49m\u001b[38;5;241;43m.\u001b[39;49m\u001b[43mtimeit\u001b[49m\u001b[43m(\u001b[49m\u001b[43mnumber\u001b[49m\u001b[43m)\u001b[49m\n\u001b[1;32m   1163\u001b[0m     \u001b[38;5;28;01mif\u001b[39;00m time_number \u001b[38;5;241m>\u001b[39m\u001b[38;5;241m=\u001b[39m \u001b[38;5;241m0.2\u001b[39m:\n\u001b[1;32m   1164\u001b[0m         \u001b[38;5;28;01mbreak\u001b[39;00m\n",
      "File \u001b[0;32m~/anaconda3/envs/neural/lib/python3.8/site-packages/IPython/core/magics/execution.py:156\u001b[0m, in \u001b[0;36mTimer.timeit\u001b[0;34m(self, number)\u001b[0m\n\u001b[1;32m    154\u001b[0m gc\u001b[38;5;241m.\u001b[39mdisable()\n\u001b[1;32m    155\u001b[0m \u001b[38;5;28;01mtry\u001b[39;00m:\n\u001b[0;32m--> 156\u001b[0m     timing \u001b[38;5;241m=\u001b[39m \u001b[38;5;28;43mself\u001b[39;49m\u001b[38;5;241;43m.\u001b[39;49m\u001b[43minner\u001b[49m\u001b[43m(\u001b[49m\u001b[43mit\u001b[49m\u001b[43m,\u001b[49m\u001b[43m \u001b[49m\u001b[38;5;28;43mself\u001b[39;49m\u001b[38;5;241;43m.\u001b[39;49m\u001b[43mtimer\u001b[49m\u001b[43m)\u001b[49m\n\u001b[1;32m    157\u001b[0m \u001b[38;5;28;01mfinally\u001b[39;00m:\n\u001b[1;32m    158\u001b[0m     \u001b[38;5;28;01mif\u001b[39;00m gcold:\n",
      "File \u001b[0;32m<magic-timeit>:1\u001b[0m, in \u001b[0;36minner\u001b[0;34m(_it, _timer)\u001b[0m\n",
      "\u001b[0;31mTypeError\u001b[0m: argument of type 'NoneType' is not iterable"
     ]
    }
   ],
   "source": [
    "%timeit 'x' in b.dtype.fields"
   ]
  },
  {
   "cell_type": "code",
   "execution_count": 61,
   "metadata": {},
   "outputs": [
    {
     "name": "stdout",
     "output_type": "stream",
     "text": [
      "148 ns ± 0.8 ns per loop (mean ± std. dev. of 7 runs, 10,000,000 loops each)\n"
     ]
    }
   ],
   "source": [
    "%timeit 'x' in  b.dtype.names"
   ]
  },
  {
   "cell_type": "code",
   "execution_count": 57,
   "metadata": {},
   "outputs": [
    {
     "ename": "TypeError",
     "evalue": "'NoneType' object is not subscriptable",
     "output_type": "error",
     "traceback": [
      "\u001b[0;31m---------------------------------------------------------------------------\u001b[0m",
      "\u001b[0;31mTypeError\u001b[0m                                 Traceback (most recent call last)",
      "Input \u001b[0;32mIn [57]\u001b[0m, in \u001b[0;36m<module>\u001b[0;34m\u001b[0m\n\u001b[0;32m----> 1\u001b[0m \u001b[43ma\u001b[49m\u001b[38;5;241;43m.\u001b[39;49m\u001b[43mview\u001b[49m\u001b[43m(\u001b[49m\u001b[43mnp\u001b[49m\u001b[38;5;241;43m.\u001b[39;49m\u001b[43mrecarray\u001b[49m\u001b[43m)\u001b[49m\u001b[38;5;241;43m.\u001b[39;49m\u001b[43mfield\u001b[49m\u001b[43m(\u001b[49m\u001b[38;5;124;43m'\u001b[39;49m\u001b[38;5;124;43mx\u001b[39;49m\u001b[38;5;124;43m'\u001b[39;49m\u001b[43m)\u001b[49m\n",
      "File \u001b[0;32m~/anaconda3/envs/neural/lib/python3.8/site-packages/numpy/core/records.py:565\u001b[0m, in \u001b[0;36mrecarray.field\u001b[0;34m(self, attr, val)\u001b[0m\n\u001b[1;32m    561\u001b[0m     attr \u001b[38;5;241m=\u001b[39m names[attr]\n\u001b[1;32m    563\u001b[0m fielddict \u001b[38;5;241m=\u001b[39m ndarray\u001b[38;5;241m.\u001b[39m\u001b[38;5;21m__getattribute__\u001b[39m(\u001b[38;5;28mself\u001b[39m, \u001b[38;5;124m'\u001b[39m\u001b[38;5;124mdtype\u001b[39m\u001b[38;5;124m'\u001b[39m)\u001b[38;5;241m.\u001b[39mfields\n\u001b[0;32m--> 565\u001b[0m res \u001b[38;5;241m=\u001b[39m \u001b[43mfielddict\u001b[49m\u001b[43m[\u001b[49m\u001b[43mattr\u001b[49m\u001b[43m]\u001b[49m[:\u001b[38;5;241m2\u001b[39m]\n\u001b[1;32m    567\u001b[0m \u001b[38;5;28;01mif\u001b[39;00m val \u001b[38;5;129;01mis\u001b[39;00m \u001b[38;5;28;01mNone\u001b[39;00m:\n\u001b[1;32m    568\u001b[0m     obj \u001b[38;5;241m=\u001b[39m \u001b[38;5;28mself\u001b[39m\u001b[38;5;241m.\u001b[39mgetfield(\u001b[38;5;241m*\u001b[39mres)\n",
      "\u001b[0;31mTypeError\u001b[0m: 'NoneType' object is not subscriptable"
     ]
    }
   ],
   "source": [
    "a.view(np.recarray).field('x')"
   ]
  },
  {
   "cell_type": "code",
   "execution_count": 19,
   "metadata": {},
   "outputs": [
    {
     "data": {
      "text/plain": [
       "{'data': (94446122710080, False),\n",
       " 'strides': None,\n",
       " 'descr': [('', '<f8')],\n",
       " 'typestr': '<f8',\n",
       " 'shape': (5,),\n",
       " 'version': 3}"
      ]
     },
     "execution_count": 19,
     "metadata": {},
     "output_type": "execute_result"
    }
   ],
   "source": [
    "a.__array_interface__"
   ]
  },
  {
   "cell_type": "code",
   "execution_count": 14,
   "metadata": {},
   "outputs": [
    {
     "data": {
      "text/plain": [
       "{'shape': (5,),\n",
       " 'strides': (8,),\n",
       " 'data': (139959941990912, False),\n",
       " 'typestr': '<f8',\n",
       " 'stream': None,\n",
       " 'version': 3}"
      ]
     },
     "execution_count": 14,
     "metadata": {},
     "output_type": "execute_result"
    }
   ],
   "source": [
    "a_pycuda.__cuda_array_interface__"
   ]
  },
  {
   "cell_type": "code",
   "execution_count": 15,
   "metadata": {},
   "outputs": [
    {
     "data": {
      "text/plain": [
       "{'shape': (5,),\n",
       " 'typestr': '<f8',\n",
       " 'descr': [('', '<f8')],\n",
       " 'stream': 1,\n",
       " 'version': 3,\n",
       " 'strides': None,\n",
       " 'data': (139959941989376, False)}"
      ]
     },
     "execution_count": 15,
     "metadata": {},
     "output_type": "execute_result"
    }
   ],
   "source": [
    "a_cp.__cuda_array_interface__"
   ]
  },
  {
   "cell_type": "code",
   "execution_count": 13,
   "metadata": {},
   "outputs": [
    {
     "data": {
      "text/plain": [
       "{'typestr': '<f8',\n",
       " 'shape': (5,),\n",
       " 'strides': None,\n",
       " 'data': (139956536213504, False),\n",
       " 'version': 2}"
      ]
     },
     "execution_count": 13,
     "metadata": {},
     "output_type": "execute_result"
    }
   ],
   "source": [
    "a_torch.__cuda_array_interface__"
   ]
  },
  {
   "cell_type": "code",
   "execution_count": 22,
   "metadata": {},
   "outputs": [
    {
     "data": {
      "text/plain": [
       "array([0., 0., 0., 0., 0.])"
      ]
     },
     "execution_count": 22,
     "metadata": {},
     "output_type": "execute_result"
    }
   ],
   "source": [
    "cp.asarray(a_pycuda)\n",
    "cp.asarray(a_torch)\n",
    "cp.asarray(a)"
   ]
  },
  {
   "cell_type": "code",
   "execution_count": 21,
   "metadata": {},
   "outputs": [
    {
     "data": {
      "text/plain": [
       "tensor([0., 0., 0., 0., 0.], dtype=torch.float64)"
      ]
     },
     "execution_count": 21,
     "metadata": {},
     "output_type": "execute_result"
    }
   ],
   "source": [
    "torch.as_tensor(a)\n",
    "torch.as_tensor(a_cp)\n",
    "torch.as_tensor(a_pycuda)"
   ]
  },
  {
   "cell_type": "code",
   "execution_count": null,
   "metadata": {},
   "outputs": [],
   "source": [
    "torch.as_tensor(a)\n",
    "torch.as_tensor(a_cp)\n",
    "torch.as_tensor(a_pycuda)"
   ]
  },
  {
   "cell_type": "code",
   "execution_count": 24,
   "metadata": {},
   "outputs": [
    {
     "ename": "TypeError",
     "evalue": "src must be GPUArray or ndarray",
     "output_type": "error",
     "traceback": [
      "\u001b[0;31m---------------------------------------------------------------------------\u001b[0m",
      "\u001b[0;31mTypeError\u001b[0m                                 Traceback (most recent call last)",
      "Input \u001b[0;32mIn [24]\u001b[0m, in \u001b[0;36m<module>\u001b[0;34m\u001b[0m\n\u001b[1;32m      1\u001b[0m garray\u001b[38;5;241m.\u001b[39mto_gpu(a)\n\u001b[0;32m----> 2\u001b[0m \u001b[43mgarray\u001b[49m\u001b[38;5;241;43m.\u001b[39;49m\u001b[43mto_gpu\u001b[49m\u001b[43m(\u001b[49m\u001b[43ma_cp\u001b[49m\u001b[43m)\u001b[49m\n",
      "File \u001b[0;32m~/anaconda3/envs/neural/lib/python3.8/site-packages/pycuda/gpuarray.py:1226\u001b[0m, in \u001b[0;36mto_gpu\u001b[0;34m(ary, allocator)\u001b[0m\n\u001b[1;32m   1224\u001b[0m \u001b[38;5;124;03m\"\"\"converts a numpy array to a GPUArray\"\"\"\u001b[39;00m\n\u001b[1;32m   1225\u001b[0m result \u001b[38;5;241m=\u001b[39m GPUArray(ary\u001b[38;5;241m.\u001b[39mshape, ary\u001b[38;5;241m.\u001b[39mdtype, allocator, strides\u001b[38;5;241m=\u001b[39m_compact_strides(ary))\n\u001b[0;32m-> 1226\u001b[0m \u001b[43mresult\u001b[49m\u001b[38;5;241;43m.\u001b[39;49m\u001b[43mset\u001b[49m\u001b[43m(\u001b[49m\u001b[43mary\u001b[49m\u001b[43m)\u001b[49m\n\u001b[1;32m   1227\u001b[0m \u001b[38;5;28;01mreturn\u001b[39;00m result\n",
      "File \u001b[0;32m~/anaconda3/envs/neural/lib/python3.8/site-packages/pycuda/gpuarray.py:318\u001b[0m, in \u001b[0;36mGPUArray.set\u001b[0;34m(self, ary, async_, stream, **kwargs)\u001b[0m\n\u001b[1;32m    315\u001b[0m     \u001b[38;5;28;01mraise\u001b[39;00m \u001b[38;5;167;01mValueError\u001b[39;00m(\u001b[38;5;124m\"\u001b[39m\u001b[38;5;124mary and self must have the same dtype\u001b[39m\u001b[38;5;124m\"\u001b[39m)\n\u001b[1;32m    317\u001b[0m \u001b[38;5;28;01mif\u001b[39;00m \u001b[38;5;28mself\u001b[39m\u001b[38;5;241m.\u001b[39msize:\n\u001b[0;32m--> 318\u001b[0m     \u001b[43m_memcpy_discontig\u001b[49m\u001b[43m(\u001b[49m\u001b[38;5;28;43mself\u001b[39;49m\u001b[43m,\u001b[49m\u001b[43m \u001b[49m\u001b[43mary\u001b[49m\u001b[43m,\u001b[49m\u001b[43m \u001b[49m\u001b[43masync_\u001b[49m\u001b[38;5;241;43m=\u001b[39;49m\u001b[43masync_\u001b[49m\u001b[43m,\u001b[49m\u001b[43m \u001b[49m\u001b[43mstream\u001b[49m\u001b[38;5;241;43m=\u001b[39;49m\u001b[43mstream\u001b[49m\u001b[43m)\u001b[49m\n",
      "File \u001b[0;32m~/anaconda3/envs/neural/lib/python3.8/site-packages/pycuda/gpuarray.py:1428\u001b[0m, in \u001b[0;36m_memcpy_discontig\u001b[0;34m(dst, src, async_, stream)\u001b[0m\n\u001b[1;32m   1420\u001b[0m \u001b[38;5;124;03m\"\"\"Copy the contents of src into dst.\u001b[39;00m\n\u001b[1;32m   1421\u001b[0m \n\u001b[1;32m   1422\u001b[0m \u001b[38;5;124;03mThe two arrays should have the same dtype, shape, and order, but\u001b[39;00m\n\u001b[1;32m   1423\u001b[0m \u001b[38;5;124;03mnot necessarily the same strides. There may be up to _two_\u001b[39;00m\n\u001b[1;32m   1424\u001b[0m \u001b[38;5;124;03maxes along which either `src` or `dst` is not contiguous.\u001b[39;00m\n\u001b[1;32m   1425\u001b[0m \u001b[38;5;124;03m\"\"\"\u001b[39;00m\n\u001b[1;32m   1427\u001b[0m \u001b[38;5;28;01mif\u001b[39;00m \u001b[38;5;129;01mnot\u001b[39;00m \u001b[38;5;28misinstance\u001b[39m(src, (GPUArray, np\u001b[38;5;241m.\u001b[39mndarray)):\n\u001b[0;32m-> 1428\u001b[0m     \u001b[38;5;28;01mraise\u001b[39;00m \u001b[38;5;167;01mTypeError\u001b[39;00m(\u001b[38;5;124m\"\u001b[39m\u001b[38;5;124msrc must be GPUArray or ndarray\u001b[39m\u001b[38;5;124m\"\u001b[39m)\n\u001b[1;32m   1429\u001b[0m \u001b[38;5;28;01mif\u001b[39;00m \u001b[38;5;129;01mnot\u001b[39;00m \u001b[38;5;28misinstance\u001b[39m(dst, (GPUArray, np\u001b[38;5;241m.\u001b[39mndarray)):\n\u001b[1;32m   1430\u001b[0m     \u001b[38;5;28;01mraise\u001b[39;00m \u001b[38;5;167;01mTypeError\u001b[39;00m(\u001b[38;5;124m\"\u001b[39m\u001b[38;5;124mdst must be GPUArray or ndarray\u001b[39m\u001b[38;5;124m\"\u001b[39m)\n",
      "\u001b[0;31mTypeError\u001b[0m: src must be GPUArray or ndarray"
     ]
    }
   ],
   "source": [
    "garray.to_gpu(a)\n",
    "garray.to_gpu(a_cp)"
   ]
  },
  {
   "cell_type": "code",
   "execution_count": 8,
   "metadata": {},
   "outputs": [
    {
     "data": {
      "text/plain": [
       "<pycuda._driver.Context at 0x7f982ecd4b30>"
      ]
     },
     "execution_count": 8,
     "metadata": {},
     "output_type": "execute_result"
    }
   ],
   "source": [
    "pycuda.autoprimaryctx.context"
   ]
  },
  {
   "cell_type": "code",
   "execution_count": 13,
   "metadata": {},
   "outputs": [],
   "source": [
    "dev = torch.cuda.device(0)"
   ]
  },
  {
   "cell_type": "code",
   "execution_count": 29,
   "metadata": {},
   "outputs": [],
   "source": [
    "import numpy\n",
    "a = numpy.random.randn(4,4)\n",
    "a_gpu = drv.mem_alloc(a.nbytes)\n",
    "drv.memcpy_htod(a_gpu, a)"
   ]
  },
  {
   "cell_type": "code",
   "execution_count": 34,
   "metadata": {},
   "outputs": [
    {
     "data": {
      "text/plain": [
       "array([[-0.27258862,  0.18403886, -0.97767967, -0.13758831],\n",
       "       [-0.82263791,  0.91515323,  1.31963314,  1.6223802 ],\n",
       "       [ 0.84822896, -2.19246203, -1.25890748, -1.38398629],\n",
       "       [ 0.49990518,  0.1539747 , -1.62959918, -0.36374604]])"
      ]
     },
     "execution_count": 34,
     "metadata": {},
     "output_type": "execute_result"
    }
   ],
   "source": [
    "garray.GPUArray(a.shape, dtype=a.dtype, gpudata=a_gpu)"
   ]
  },
  {
   "cell_type": "code",
   "execution_count": 80,
   "metadata": {},
   "outputs": [
    {
     "data": {
      "text/plain": [
       "numpy.float64"
      ]
     },
     "execution_count": 80,
     "metadata": {},
     "output_type": "execute_result"
    }
   ],
   "source": [
    "np.float_"
   ]
  },
  {
   "cell_type": "code",
   "execution_count": 79,
   "metadata": {},
   "outputs": [
    {
     "ename": "CompileException",
     "evalue": "__nv_name_map(2): error: identifier \"MyType\" is undefined\n\n__nv_name_map(2): error: Error in parsing name expression for lowered name lookup. Input name expression was: \" fx3 < MyType >\"\n\n2 errors detected in the compilation of \"/tmp/tmpxpf1s0fw/14aa8e4c83082b0664b4477201162891ea1b930a.cubin.cu\".\n",
     "output_type": "error",
     "traceback": [
      "\u001b[0;31m---------------------------------------------------------------------------\u001b[0m",
      "\u001b[0;31mNVRTCError\u001b[0m                                Traceback (most recent call last)",
      "File \u001b[0;32m~/anaconda3/envs/neural/lib/python3.8/site-packages/cupy/cuda/compiler.py:681\u001b[0m, in \u001b[0;36m_NVRTCProgram.compile\u001b[0;34m(self, options, log_stream)\u001b[0m\n\u001b[1;32m    680\u001b[0m         nvrtc\u001b[38;5;241m.\u001b[39maddNameExpression(\u001b[38;5;28mself\u001b[39m\u001b[38;5;241m.\u001b[39mptr, ker)\n\u001b[0;32m--> 681\u001b[0m \u001b[43mnvrtc\u001b[49m\u001b[38;5;241;43m.\u001b[39;49m\u001b[43mcompileProgram\u001b[49m\u001b[43m(\u001b[49m\u001b[38;5;28;43mself\u001b[39;49m\u001b[38;5;241;43m.\u001b[39;49m\u001b[43mptr\u001b[49m\u001b[43m,\u001b[49m\u001b[43m \u001b[49m\u001b[43moptions\u001b[49m\u001b[43m)\u001b[49m\n\u001b[1;32m    682\u001b[0m mapping \u001b[38;5;241m=\u001b[39m \u001b[38;5;28;01mNone\u001b[39;00m\n",
      "File \u001b[0;32mcupy_backends/cuda/libs/nvrtc.pyx:139\u001b[0m, in \u001b[0;36mcupy_backends.cuda.libs.nvrtc.compileProgram\u001b[0;34m()\u001b[0m\n",
      "File \u001b[0;32mcupy_backends/cuda/libs/nvrtc.pyx:151\u001b[0m, in \u001b[0;36mcupy_backends.cuda.libs.nvrtc.compileProgram\u001b[0;34m()\u001b[0m\n",
      "File \u001b[0;32mcupy_backends/cuda/libs/nvrtc.pyx:67\u001b[0m, in \u001b[0;36mcupy_backends.cuda.libs.nvrtc.check_status\u001b[0;34m()\u001b[0m\n",
      "\u001b[0;31mNVRTCError\u001b[0m: NVRTC_ERROR_COMPILATION (6)",
      "\nDuring handling of the above exception, another exception occurred:\n",
      "\u001b[0;31mCompileException\u001b[0m                          Traceback (most recent call last)",
      "Input \u001b[0;32mIn [79]\u001b[0m, in \u001b[0;36m<module>\u001b[0;34m\u001b[0m\n\u001b[1;32m     11\u001b[0m name_exp \u001b[38;5;241m=\u001b[39m [\u001b[38;5;124m'\u001b[39m\u001b[38;5;124mfx3<MyType>\u001b[39m\u001b[38;5;124m'\u001b[39m]\n\u001b[1;32m     12\u001b[0m mod \u001b[38;5;241m=\u001b[39m cp\u001b[38;5;241m.\u001b[39mRawModule(code\u001b[38;5;241m=\u001b[39mcode, options\u001b[38;5;241m=\u001b[39m(\u001b[38;5;124m'\u001b[39m\u001b[38;5;124m-std=c++11\u001b[39m\u001b[38;5;124m'\u001b[39m,),\n\u001b[1;32m     13\u001b[0m     name_expressions\u001b[38;5;241m=\u001b[39mname_exp)\n\u001b[0;32m---> 14\u001b[0m kern \u001b[38;5;241m=\u001b[39m \u001b[43mmod\u001b[49m\u001b[38;5;241;43m.\u001b[39;49m\u001b[43mget_function\u001b[49m\u001b[43m(\u001b[49m\u001b[43mname_exp\u001b[49m\u001b[43m[\u001b[49m\u001b[38;5;241;43m0\u001b[39;49m\u001b[43m]\u001b[49m\u001b[43m)\u001b[49m  \u001b[38;5;66;03m# compilation happens here\u001b[39;00m\n\u001b[1;32m     15\u001b[0m N\u001b[38;5;241m=\u001b[39m\u001b[38;5;241m10\u001b[39m\n\u001b[1;32m     16\u001b[0m a \u001b[38;5;241m=\u001b[39m cp\u001b[38;5;241m.\u001b[39mrandom\u001b[38;5;241m.\u001b[39mrandn(\u001b[38;5;241m10\u001b[39m,\u001b[38;5;241m3\u001b[39m)\u001b[38;5;241m.\u001b[39mview(MyType)\n",
      "File \u001b[0;32mcupy/_core/raw.pyx:470\u001b[0m, in \u001b[0;36mcupy._core.raw.RawModule.get_function\u001b[0;34m()\u001b[0m\n",
      "File \u001b[0;32mcupy/_core/raw.pyx:394\u001b[0m, in \u001b[0;36mcupy._core.raw.RawModule.module.__get__\u001b[0;34m()\u001b[0m\n",
      "File \u001b[0;32mcupy/_core/raw.pyx:402\u001b[0m, in \u001b[0;36mcupy._core.raw.RawModule._module\u001b[0;34m()\u001b[0m\n",
      "File \u001b[0;32mcupy/_util.pyx:67\u001b[0m, in \u001b[0;36mcupy._util.memoize.decorator.ret\u001b[0;34m()\u001b[0m\n",
      "File \u001b[0;32mcupy/_core/raw.pyx:547\u001b[0m, in \u001b[0;36mcupy._core.raw._get_raw_module\u001b[0;34m()\u001b[0m\n",
      "File \u001b[0;32mcupy/_core/core.pyx:2064\u001b[0m, in \u001b[0;36mcupy._core.core.compile_with_cache\u001b[0;34m()\u001b[0m\n",
      "File \u001b[0;32mcupy/_core/core.pyx:2124\u001b[0m, in \u001b[0;36mcupy._core.core.compile_with_cache\u001b[0;34m()\u001b[0m\n",
      "File \u001b[0;32m~/anaconda3/envs/neural/lib/python3.8/site-packages/cupy/cuda/compiler.py:488\u001b[0m, in \u001b[0;36m_compile_module_with_cache\u001b[0;34m(source, options, arch, cache_dir, extra_source, backend, enable_cooperative_groups, name_expressions, log_stream, jitify)\u001b[0m\n\u001b[1;32m    484\u001b[0m     \u001b[38;5;28;01mreturn\u001b[39;00m _compile_with_cache_hip(\n\u001b[1;32m    485\u001b[0m         source, options, arch, cache_dir, extra_source, backend,\n\u001b[1;32m    486\u001b[0m         name_expressions, log_stream, cache_in_memory)\n\u001b[1;32m    487\u001b[0m \u001b[38;5;28;01melse\u001b[39;00m:\n\u001b[0;32m--> 488\u001b[0m     \u001b[38;5;28;01mreturn\u001b[39;00m \u001b[43m_compile_with_cache_cuda\u001b[49m\u001b[43m(\u001b[49m\n\u001b[1;32m    489\u001b[0m \u001b[43m        \u001b[49m\u001b[43msource\u001b[49m\u001b[43m,\u001b[49m\u001b[43m \u001b[49m\u001b[43moptions\u001b[49m\u001b[43m,\u001b[49m\u001b[43m \u001b[49m\u001b[43march\u001b[49m\u001b[43m,\u001b[49m\u001b[43m \u001b[49m\u001b[43mcache_dir\u001b[49m\u001b[43m,\u001b[49m\u001b[43m \u001b[49m\u001b[43mextra_source\u001b[49m\u001b[43m,\u001b[49m\u001b[43m \u001b[49m\u001b[43mbackend\u001b[49m\u001b[43m,\u001b[49m\n\u001b[1;32m    490\u001b[0m \u001b[43m        \u001b[49m\u001b[43menable_cooperative_groups\u001b[49m\u001b[43m,\u001b[49m\u001b[43m \u001b[49m\u001b[43mname_expressions\u001b[49m\u001b[43m,\u001b[49m\u001b[43m \u001b[49m\u001b[43mlog_stream\u001b[49m\u001b[43m,\u001b[49m\n\u001b[1;32m    491\u001b[0m \u001b[43m        \u001b[49m\u001b[43mcache_in_memory\u001b[49m\u001b[43m,\u001b[49m\u001b[43m \u001b[49m\u001b[43mjitify\u001b[49m\u001b[43m)\u001b[49m\n",
      "File \u001b[0;32m~/anaconda3/envs/neural/lib/python3.8/site-packages/cupy/cuda/compiler.py:566\u001b[0m, in \u001b[0;36m_compile_with_cache_cuda\u001b[0;34m(source, options, arch, cache_dir, extra_source, backend, enable_cooperative_groups, name_expressions, log_stream, cache_in_memory, jitify)\u001b[0m\n\u001b[1;32m    564\u001b[0m \u001b[38;5;28;01mif\u001b[39;00m backend \u001b[38;5;241m==\u001b[39m \u001b[38;5;124m'\u001b[39m\u001b[38;5;124mnvrtc\u001b[39m\u001b[38;5;124m'\u001b[39m:\n\u001b[1;32m    565\u001b[0m     cu_name \u001b[38;5;241m=\u001b[39m \u001b[38;5;124m'\u001b[39m\u001b[38;5;124m'\u001b[39m \u001b[38;5;28;01mif\u001b[39;00m cache_in_memory \u001b[38;5;28;01melse\u001b[39;00m name \u001b[38;5;241m+\u001b[39m \u001b[38;5;124m'\u001b[39m\u001b[38;5;124m.cu\u001b[39m\u001b[38;5;124m'\u001b[39m\n\u001b[0;32m--> 566\u001b[0m     ptx, mapping \u001b[38;5;241m=\u001b[39m \u001b[43mcompile_using_nvrtc\u001b[49m\u001b[43m(\u001b[49m\n\u001b[1;32m    567\u001b[0m \u001b[43m        \u001b[49m\u001b[43msource\u001b[49m\u001b[43m,\u001b[49m\u001b[43m \u001b[49m\u001b[43moptions\u001b[49m\u001b[43m,\u001b[49m\u001b[43m \u001b[49m\u001b[43march\u001b[49m\u001b[43m,\u001b[49m\u001b[43m \u001b[49m\u001b[43mcu_name\u001b[49m\u001b[43m,\u001b[49m\u001b[43m \u001b[49m\u001b[43mname_expressions\u001b[49m\u001b[43m,\u001b[49m\n\u001b[1;32m    568\u001b[0m \u001b[43m        \u001b[49m\u001b[43mlog_stream\u001b[49m\u001b[43m,\u001b[49m\u001b[43m \u001b[49m\u001b[43mcache_in_memory\u001b[49m\u001b[43m,\u001b[49m\u001b[43m \u001b[49m\u001b[43mjitify\u001b[49m\u001b[43m)\u001b[49m\n\u001b[1;32m    569\u001b[0m     \u001b[38;5;28;01mif\u001b[39;00m _is_cudadevrt_needed(options):\n\u001b[1;32m    570\u001b[0m         \u001b[38;5;66;03m# for separate compilation\u001b[39;00m\n\u001b[1;32m    571\u001b[0m         ls \u001b[38;5;241m=\u001b[39m function\u001b[38;5;241m.\u001b[39mLinkState()\n",
      "File \u001b[0;32m~/anaconda3/envs/neural/lib/python3.8/site-packages/cupy/cuda/compiler.py:317\u001b[0m, in \u001b[0;36mcompile_using_nvrtc\u001b[0;34m(source, options, arch, filename, name_expressions, log_stream, cache_in_memory, jitify)\u001b[0m\n\u001b[1;32m    314\u001b[0m         \u001b[38;5;28;01mwith\u001b[39;00m \u001b[38;5;28mopen\u001b[39m(cu_path, \u001b[38;5;124m'\u001b[39m\u001b[38;5;124mw\u001b[39m\u001b[38;5;124m'\u001b[39m) \u001b[38;5;28;01mas\u001b[39;00m cu_file:\n\u001b[1;32m    315\u001b[0m             cu_file\u001b[38;5;241m.\u001b[39mwrite(source)\n\u001b[0;32m--> 317\u001b[0m         \u001b[38;5;28;01mreturn\u001b[39;00m \u001b[43m_compile\u001b[49m\u001b[43m(\u001b[49m\u001b[43msource\u001b[49m\u001b[43m,\u001b[49m\u001b[43m \u001b[49m\u001b[43moptions\u001b[49m\u001b[43m,\u001b[49m\u001b[43m \u001b[49m\u001b[43mcu_path\u001b[49m\u001b[43m,\u001b[49m\n\u001b[1;32m    318\u001b[0m \u001b[43m                        \u001b[49m\u001b[43mname_expressions\u001b[49m\u001b[43m,\u001b[49m\u001b[43m \u001b[49m\u001b[43mlog_stream\u001b[49m\u001b[43m,\u001b[49m\u001b[43m \u001b[49m\u001b[43mjitify\u001b[49m\u001b[43m)\u001b[49m\n\u001b[1;32m    319\u001b[0m \u001b[38;5;28;01melse\u001b[39;00m:\n\u001b[1;32m    320\u001b[0m     cu_path \u001b[38;5;241m=\u001b[39m \u001b[38;5;124m'\u001b[39m\u001b[38;5;124m'\u001b[39m \u001b[38;5;28;01mif\u001b[39;00m \u001b[38;5;129;01mnot\u001b[39;00m jitify \u001b[38;5;28;01melse\u001b[39;00m filename\n",
      "File \u001b[0;32m~/anaconda3/envs/neural/lib/python3.8/site-packages/cupy/cuda/compiler.py:301\u001b[0m, in \u001b[0;36mcompile_using_nvrtc.<locals>._compile\u001b[0;34m(source, options, cu_path, name_expressions, log_stream, jitify)\u001b[0m\n\u001b[1;32m    297\u001b[0m prog \u001b[38;5;241m=\u001b[39m _NVRTCProgram(source, cu_path, headers, include_names,\n\u001b[1;32m    298\u001b[0m                      name_expressions\u001b[38;5;241m=\u001b[39mname_expressions, method\u001b[38;5;241m=\u001b[39mmethod)\n\u001b[1;32m    300\u001b[0m \u001b[38;5;28;01mtry\u001b[39;00m:\n\u001b[0;32m--> 301\u001b[0m     compiled_obj, mapping \u001b[38;5;241m=\u001b[39m \u001b[43mprog\u001b[49m\u001b[38;5;241;43m.\u001b[39;49m\u001b[43mcompile\u001b[49m\u001b[43m(\u001b[49m\u001b[43moptions\u001b[49m\u001b[43m,\u001b[49m\u001b[43m \u001b[49m\u001b[43mlog_stream\u001b[49m\u001b[43m)\u001b[49m\n\u001b[1;32m    302\u001b[0m \u001b[38;5;28;01mexcept\u001b[39;00m CompileException \u001b[38;5;28;01mas\u001b[39;00m e:\n\u001b[1;32m    303\u001b[0m     dump \u001b[38;5;241m=\u001b[39m _get_bool_env_variable(\n\u001b[1;32m    304\u001b[0m         \u001b[38;5;124m'\u001b[39m\u001b[38;5;124mCUPY_DUMP_CUDA_SOURCE_ON_ERROR\u001b[39m\u001b[38;5;124m'\u001b[39m, \u001b[38;5;28;01mFalse\u001b[39;00m)\n",
      "File \u001b[0;32m~/anaconda3/envs/neural/lib/python3.8/site-packages/cupy/cuda/compiler.py:698\u001b[0m, in \u001b[0;36m_NVRTCProgram.compile\u001b[0;34m(self, options, log_stream)\u001b[0m\n\u001b[1;32m    696\u001b[0m \u001b[38;5;28;01mexcept\u001b[39;00m nvrtc\u001b[38;5;241m.\u001b[39mNVRTCError:\n\u001b[1;32m    697\u001b[0m     log \u001b[38;5;241m=\u001b[39m nvrtc\u001b[38;5;241m.\u001b[39mgetProgramLog(\u001b[38;5;28mself\u001b[39m\u001b[38;5;241m.\u001b[39mptr)\n\u001b[0;32m--> 698\u001b[0m     \u001b[38;5;28;01mraise\u001b[39;00m CompileException(log, \u001b[38;5;28mself\u001b[39m\u001b[38;5;241m.\u001b[39msrc, \u001b[38;5;28mself\u001b[39m\u001b[38;5;241m.\u001b[39mname, options,\n\u001b[1;32m    699\u001b[0m                            \u001b[38;5;124m'\u001b[39m\u001b[38;5;124mnvrtc\u001b[39m\u001b[38;5;124m'\u001b[39m \u001b[38;5;28;01mif\u001b[39;00m \u001b[38;5;129;01mnot\u001b[39;00m runtime\u001b[38;5;241m.\u001b[39mis_hip \u001b[38;5;28;01melse\u001b[39;00m \u001b[38;5;124m'\u001b[39m\u001b[38;5;124mhiprtc\u001b[39m\u001b[38;5;124m'\u001b[39m)\n",
      "\u001b[0;31mCompileException\u001b[0m: __nv_name_map(2): error: identifier \"MyType\" is undefined\n\n__nv_name_map(2): error: Error in parsing name expression for lowered name lookup. Input name expression was: \" fx3 < MyType >\"\n\n2 errors detected in the compilation of \"/tmp/tmpxpf1s0fw/14aa8e4c83082b0664b4477201162891ea1b930a.cubin.cu\".\n"
     ]
    }
   ],
   "source": [
    "MyType = np.dtype({'names': ['x', 'y', 'z'], 'formats': [np.float_]*3})\n",
    "preamble = \"\"\"\n",
    "struct MyType {\n",
    "    double x, y, z; \n",
    "}\n",
    "\"\"\"\n",
    "code = r'''\n",
    "template<typename T>\n",
    "__global__ void fx3(T* arr, int N) {\n",
    "    unsigned int tid = blockIdx.x * blockDim.x + threadIdx.x;\n",
    "    if (tid < N) {\n",
    "        arr[tid]->x = arr[tid]->x * 3;\n",
    "    }\n",
    "}\n",
    "'''\n",
    "name_exp = ['fx3<MyType>']\n",
    "mod = cp.RawModule(code=code, options=('-std=c++11',),\n",
    "    name_expressions=name_exp)\n",
    "kern = mod.get_function(name_exp[0])  # compilation happens here\n",
    "N=10\n",
    "a = cp.random.randn(10,3).view(MyType)\n",
    "kern((1,), (N,), (a, N))\n",
    "a"
   ]
  },
  {
   "cell_type": "code",
   "execution_count": 88,
   "metadata": {},
   "outputs": [
    {
     "ename": "TypeError",
     "evalue": "data type 'mytype' not understood",
     "output_type": "error",
     "traceback": [
      "\u001b[0;31m---------------------------------------------------------------------------\u001b[0m",
      "\u001b[0;31mTypeError\u001b[0m                                 Traceback (most recent call last)",
      "Input \u001b[0;32mIn [88]\u001b[0m, in \u001b[0;36m<module>\u001b[0;34m\u001b[0m\n\u001b[1;32m      1\u001b[0m MyType \u001b[38;5;241m=\u001b[39m np\u001b[38;5;241m.\u001b[39mdtype({\u001b[38;5;124m'\u001b[39m\u001b[38;5;124mnames\u001b[39m\u001b[38;5;124m'\u001b[39m: [\u001b[38;5;124m'\u001b[39m\u001b[38;5;124mx\u001b[39m\u001b[38;5;124m'\u001b[39m, \u001b[38;5;124m'\u001b[39m\u001b[38;5;124my\u001b[39m\u001b[38;5;124m'\u001b[39m, \u001b[38;5;124m'\u001b[39m\u001b[38;5;124mz\u001b[39m\u001b[38;5;124m'\u001b[39m], \u001b[38;5;124m'\u001b[39m\u001b[38;5;124mformats\u001b[39m\u001b[38;5;124m'\u001b[39m: [np\u001b[38;5;241m.\u001b[39mfloat_]\u001b[38;5;241m*\u001b[39m\u001b[38;5;241m3\u001b[39m})\n\u001b[1;32m      2\u001b[0m preamble \u001b[38;5;241m=\u001b[39m \u001b[38;5;124m\"\"\"\u001b[39m\n\u001b[1;32m      3\u001b[0m \u001b[38;5;124mstruct mytype \u001b[39m\u001b[38;5;124m{\u001b[39m\u001b[38;5;124mfloat x,y,z,w,v;};\u001b[39m\n\u001b[1;32m      4\u001b[0m \u001b[38;5;124m\"\"\"\u001b[39m\n\u001b[0;32m----> 5\u001b[0m mod \u001b[38;5;241m=\u001b[39m \u001b[43mcp\u001b[49m\u001b[38;5;241;43m.\u001b[39;49m\u001b[43mElementwiseKernel\u001b[49m\u001b[43m(\u001b[49m\n\u001b[1;32m      6\u001b[0m \u001b[43m    \u001b[49m\u001b[38;5;124;43m\"\u001b[39;49m\u001b[38;5;124;43mmytype a\u001b[39;49m\u001b[38;5;124;43m\"\u001b[39;49m\u001b[43m,\u001b[49m\n\u001b[1;32m      7\u001b[0m \u001b[43m    \u001b[49m\u001b[38;5;124;43m\"\u001b[39;49m\u001b[38;5;124;43mmytype b\u001b[39;49m\u001b[38;5;124;43m\"\u001b[39;49m\u001b[43m,\u001b[49m\n\u001b[1;32m      8\u001b[0m \u001b[43m    \u001b[49m\u001b[38;5;124;43m\"\u001b[39;49m\u001b[38;5;124;43ma->x = b->x * 2\u001b[39;49m\u001b[38;5;124;43m\"\u001b[39;49m\u001b[43m,\u001b[49m\n\u001b[1;32m      9\u001b[0m \u001b[43m    \u001b[49m\u001b[38;5;124;43m\"\u001b[39;49m\u001b[38;5;124;43mdouble\u001b[39;49m\u001b[38;5;124;43m\"\u001b[39;49m\u001b[43m,\u001b[49m\n\u001b[1;32m     10\u001b[0m \u001b[43m    \u001b[49m\u001b[43mpreamble\u001b[49m\u001b[38;5;241;43m=\u001b[39;49m\u001b[43mpreamble\u001b[49m\n\u001b[1;32m     11\u001b[0m \u001b[43m)\u001b[49m\n",
      "File \u001b[0;32mcupy/_core/_kernel.pyx:753\u001b[0m, in \u001b[0;36mcupy._core._kernel.ElementwiseKernel.__init__\u001b[0;34m()\u001b[0m\n",
      "File \u001b[0;32mcupy/_util.pyx:67\u001b[0m, in \u001b[0;36mcupy._util.memoize.decorator.ret\u001b[0;34m()\u001b[0m\n",
      "File \u001b[0;32mcupy/_core/_kernel.pyx:468\u001b[0m, in \u001b[0;36mcupy._core._kernel._get_param_info\u001b[0;34m()\u001b[0m\n",
      "File \u001b[0;32mcupy/_core/_kernel.pyx:423\u001b[0m, in \u001b[0;36mcupy._core._kernel.ParameterInfo.__init__\u001b[0;34m()\u001b[0m\n",
      "File \u001b[0;32mcupy/_core/_dtype.pyx:54\u001b[0m, in \u001b[0;36mcupy._core._dtype.get_dtype\u001b[0;34m()\u001b[0m\n",
      "\u001b[0;31mTypeError\u001b[0m: data type 'mytype' not understood"
     ]
    }
   ],
   "source": [
    "MyType = np.dtype({'names': ['x', 'y', 'z'], 'formats': [np.float_]*3})\n",
    "preamble = \"\"\"\n",
    "struct mytype {float x,y,z,w,v;};\n",
    "\"\"\"\n",
    "mod = cp.ElementwiseKernel(\n",
    "    \"mytype a\",\n",
    "    \"mytype b\",\n",
    "    \"a->x = b->x * 2\",\n",
    "    \"double\",\n",
    "    preamble=preamble\n",
    ")"
   ]
  },
  {
   "cell_type": "code",
   "execution_count": null,
   "metadata": {},
   "outputs": [],
   "source": [
    "kern = mod.get_function(name_exp[0])  # compilation happens here\n",
    "N=10\n",
    "a = cp.random.randn(10,3).view(MyType)\n",
    "kern((1,), (N,), (a, N))\n",
    "a"
   ]
  },
  {
   "cell_type": "code",
   "execution_count": 1,
   "metadata": {},
   "outputs": [
    {
     "ename": "TypeError",
     "evalue": "You are trying to pass a numpy.ndarray of shape (5, 1) as a kernel parameter. Only numpy.ndarrays of size one can be passed by value. If you meant to pass a pointer to __global__ memory, you need to pass a cupy.ndarray instead.",
     "output_type": "error",
     "traceback": [
      "\u001b[0;31m---------------------------------------------------------------------------\u001b[0m",
      "\u001b[0;31mTypeError\u001b[0m                                 Traceback (most recent call last)",
      "Input \u001b[0;32mIn [1]\u001b[0m, in \u001b[0;36m<module>\u001b[0;34m\u001b[0m\n\u001b[1;32m     32\u001b[0m block \u001b[38;5;241m=\u001b[39m (\u001b[38;5;241m256\u001b[39m,)\n\u001b[1;32m     33\u001b[0m args \u001b[38;5;241m=\u001b[39m (d_output, arg0, arg1, np\u001b[38;5;241m.\u001b[39muint64(N))\n\u001b[0;32m---> 34\u001b[0m \u001b[43mkernel\u001b[49m\u001b[43m(\u001b[49m\u001b[43mgrid\u001b[49m\u001b[43m,\u001b[49m\u001b[43m \u001b[49m\u001b[43mblock\u001b[49m\u001b[43m,\u001b[49m\u001b[43m \u001b[49m\u001b[43margs\u001b[49m\u001b[43m)\u001b[49m\n\u001b[1;32m     36\u001b[0m h_output[\u001b[38;5;241m0\u001b[39m::\u001b[38;5;241m2\u001b[39m] \u001b[38;5;241m=\u001b[39m arg0\n\u001b[1;32m     37\u001b[0m h_output[\u001b[38;5;241m1\u001b[39m::\u001b[38;5;241m2\u001b[39m] \u001b[38;5;241m=\u001b[39m arg1\n",
      "File \u001b[0;32mcupy/_core/raw.pyx:89\u001b[0m, in \u001b[0;36mcupy._core.raw.RawKernel.__call__\u001b[0;34m()\u001b[0m\n",
      "File \u001b[0;32mcupy/cuda/function.pyx:224\u001b[0m, in \u001b[0;36mcupy.cuda.function.Function.__call__\u001b[0;34m()\u001b[0m\n",
      "File \u001b[0;32mcupy/cuda/function.pyx:178\u001b[0m, in \u001b[0;36mcupy.cuda.function._launch\u001b[0;34m()\u001b[0m\n",
      "File \u001b[0;32mcupy/cuda/function.pyx:134\u001b[0m, in \u001b[0;36mcupy.cuda.function._pointer\u001b[0;34m()\u001b[0m\n",
      "\u001b[0;31mTypeError\u001b[0m: You are trying to pass a numpy.ndarray of shape (5, 1) as a kernel parameter. Only numpy.ndarrays of size one can be passed by value. If you meant to pass a pointer to __global__ memory, you need to pass a cupy.ndarray instead."
     ]
    }
   ],
   "source": [
    "import numpy as np\n",
    "import cupy as cp\n",
    "\n",
    "code = r\"\"\"\n",
    "    struct mytype {float x,y,z,w,v;};\n",
    "    template <typename T>\n",
    "    __global__ void affect(T* const __restrict__ output,\n",
    "                         const T arg0, const T arg1,\n",
    "                         const size_t nelements) {\n",
    "        ptrdiff_t i = blockIdx.x * blockDim.x + threadIdx.x;\n",
    "        if (i >= nelements)\n",
    "            return;\n",
    "        output[i] = (i%2 == 0 ? arg0 : arg1);\n",
    "    }\n",
    "\"\"\"\n",
    "module = cp.RawModule(code=code,\n",
    "                      name_expressions=('affect<mytype>',),\n",
    "                      options=('-std=c++11',))\n",
    "kernel = module.get_function('affect<mytype>')\n",
    "\n",
    "mytype = np.dtype( { 'names': ['x', 'y', 'z', 'w', 'v'],\n",
    "                     'formats': [np.float32]*5 } )\n",
    "\n",
    "arg0 = np.random.rand(5, 5).astype(np.float32).view(mytype)\n",
    "arg1 = np.random.rand(5, 5).astype(np.float32).view(mytype)\n",
    "\n",
    "N = 512\n",
    "h_output = np.empty(dtype=mytype, shape=N)\n",
    "d_output = cp.asarray(h_output.view(np.float32))\n",
    "\n",
    "grid = (N,)\n",
    "block = (256,)\n",
    "args = (d_output, arg0, arg1, np.uint64(N))\n",
    "kernel(grid, block, args)\n",
    "\n",
    "h_output[0::2] = arg0\n",
    "h_output[1::2] = arg1\n",
    "\n",
    "np.testing.assert_array_equal(h_output,\n",
    "                              cp.asnumpy(d_output).view(float5))"
   ]
  },
  {
   "cell_type": "code",
   "execution_count": 87,
   "metadata": {},
   "outputs": [
    {
     "data": {
      "text/plain": [
       "array([(0.8242026, 0.9768041, 0.40528548, 0.9857719, 0.7546456)],\n",
       "      dtype=[('x', '<f4'), ('y', '<f4'), ('z', '<f4'), ('w', '<f4'), ('v', '<f4')])"
      ]
     },
     "execution_count": 87,
     "metadata": {},
     "output_type": "execute_result"
    }
   ],
   "source": [
    "arg0"
   ]
  },
  {
   "cell_type": "code",
   "execution_count": null,
   "metadata": {},
   "outputs": [],
   "source": []
  }
 ],
 "metadata": {
  "interpreter": {
   "hash": "e53761087f5b83f447dedb9b9cbb01a83ae5a5f1ef55f60280c52164232220af"
  },
  "kernelspec": {
   "display_name": "Python 3.8.12 64-bit ('neural': conda)",
   "language": "python",
   "name": "python3"
  },
  "language_info": {
   "codemirror_mode": {
    "name": "ipython",
    "version": 3
   },
   "file_extension": ".py",
   "mimetype": "text/x-python",
   "name": "python",
   "nbconvert_exporter": "python",
   "pygments_lexer": "ipython3",
   "version": "3.9.10"
  },
  "orig_nbformat": 4
 },
 "nbformat": 4,
 "nbformat_minor": 2
}
