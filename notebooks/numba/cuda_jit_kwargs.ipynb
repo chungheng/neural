{
 "cells": [
  {
   "cell_type": "code",
   "execution_count": 2,
   "metadata": {},
   "outputs": [
    {
     "ename": "SyntaxError",
     "evalue": "unmatched '}' (2584903666.py, line 30)",
     "output_type": "error",
     "traceback": [
      "\u001b[0;36m  Input \u001b[0;32mIn [2]\u001b[0;36m\u001b[0m\n\u001b[0;31m    }\u001b[0m\n\u001b[0m    ^\u001b[0m\n\u001b[0;31mSyntaxError\u001b[0m\u001b[0;31m:\u001b[0m unmatched '}'\n"
     ]
    }
   ],
   "source": [
    "import numba\n",
    "import numpy as np\n",
    "from numba import cuda\n",
    "\n",
    "@numba.njit\n",
    "def func_cpu(a, b=0.):\n",
    "    for i in range(a.shape[0]):\n",
    "        a[i]+= b\n",
    "\n",
    "@cuda.jit\n",
    "def func_cuda(a, b=0.):\n",
    "    for i in range(cuda.grid(1), a.shape[0], cuda.gridsize(1)):\n",
    "        a[i]+= b\n",
    "\n",
    "\n",
    "# these all work\n",
    "a = np.random.randn(1000)\n",
    "_ = func_cpu(a)\n",
    "func_cpu(a, b=1.)\n",
    "func_cpu(a, 2.)\n",
    "\n",
    "a_g = cuda.to_device(a)\n",
    "# 1. This works\n",
    "func_cuda[4,256](a_g, 2.) \n",
    "\n",
    "# 2. Raises TypeError:\n",
    "#    TypeError: Failed in cuda mode pipeline (step: fix up args)\n",
    "#    Signature mismatch: 1 argument types given, but function takes 2 arguments\n",
    "func_cuda[4,256](a_g) \n",
    "\n",
    "# 3. Raise TypeError:\n",
    "#    __call__() got an unexpected keyword argument 'b'\n",
    "func_cuda[4,256](a_g, b=1.)"
   ]
  },
  {
   "cell_type": "code",
   "execution_count": 2,
   "metadata": {},
   "outputs": [
    {
     "name": "stdout",
     "output_type": "stream",
     "text": [
      "39.3 µs ± 382 ns per loop (mean ± std. dev. of 7 runs, 10,000 loops each)\n"
     ]
    }
   ],
   "source": [
    "%timeit func_cuda[4,256](a_g, b=1.)"
   ]
  },
  {
   "cell_type": "code",
   "execution_count": 3,
   "metadata": {},
   "outputs": [
    {
     "name": "stdout",
     "output_type": "stream",
     "text": [
      "38.6 µs ± 325 ns per loop (mean ± std. dev. of 7 runs, 10,000 loops each)\n"
     ]
    }
   ],
   "source": [
    "%timeit func_cuda[4,256](a_g, b=1.)"
   ]
  },
  {
   "cell_type": "code",
   "execution_count": 3,
   "metadata": {},
   "outputs": [
    {
     "ename": "ImportError",
     "evalue": "cannot import name 'operatorPrecedence' from 'pyparsing' (/home/tingkai/anaconda3/envs/neural/lib/python3.9/site-packages/pyparsing/__init__.py)",
     "output_type": "error",
     "traceback": [
      "\u001b[0;31m---------------------------------------------------------------------------\u001b[0m",
      "\u001b[0;31mImportError\u001b[0m                               Traceback (most recent call last)",
      "\u001b[1;32m/home/tingkai/Projects/NEURAL/neural/notebooks/numba/cuda_jit_kwargs.ipynb Cell 4'\u001b[0m in \u001b[0;36m<module>\u001b[0;34m\u001b[0m\n\u001b[0;32m----> <a href='vscode-notebook-cell://ssh-remote%2Bubuntu/home/tingkai/Projects/NEURAL/neural/notebooks/numba/cuda_jit_kwargs.ipynb#ch0000003vscode-remote?line=0'>1</a>\u001b[0m \u001b[39mimport\u001b[39;00m \u001b[39mpragma\u001b[39;00m\n\u001b[1;32m      <a href='vscode-notebook-cell://ssh-remote%2Bubuntu/home/tingkai/Projects/NEURAL/neural/notebooks/numba/cuda_jit_kwargs.ipynb#ch0000003vscode-remote?line=1'>2</a>\u001b[0m \u001b[39mimport\u001b[39;00m \u001b[39mnumba\u001b[39;00m\n\u001b[1;32m      <a href='vscode-notebook-cell://ssh-remote%2Bubuntu/home/tingkai/Projects/NEURAL/neural/notebooks/numba/cuda_jit_kwargs.ipynb#ch0000003vscode-remote?line=2'>3</a>\u001b[0m fns \u001b[39m=\u001b[39m [sin, cos, tan]\n",
      "File \u001b[0;32m~/anaconda3/envs/neural/lib/python3.9/site-packages/pragma/__init__.py:1\u001b[0m, in \u001b[0;36m<module>\u001b[0;34m\u001b[0m\n\u001b[0;32m----> <a href='file:///~/anaconda3/envs/neural/lib/python3.9/site-packages/pragma/__init__.py?line=0'>1</a>\u001b[0m \u001b[39mfrom\u001b[39;00m \u001b[39m.\u001b[39;00m \u001b[39mimport\u001b[39;00m core\n\u001b[1;32m      <a href='file:///~/anaconda3/envs/neural/lib/python3.9/site-packages/pragma/__init__.py?line=1'>2</a>\u001b[0m \u001b[39mfrom\u001b[39;00m \u001b[39m.\u001b[39;00m\u001b[39mcollapse_literals\u001b[39;00m \u001b[39mimport\u001b[39;00m collapse_literals\n\u001b[1;32m      <a href='file:///~/anaconda3/envs/neural/lib/python3.9/site-packages/pragma/__init__.py?line=2'>3</a>\u001b[0m \u001b[39mfrom\u001b[39;00m \u001b[39m.\u001b[39;00m\u001b[39mdeindex\u001b[39;00m \u001b[39mimport\u001b[39;00m deindex\n",
      "File \u001b[0;32m~/anaconda3/envs/neural/lib/python3.9/site-packages/pragma/core/__init__.py:7\u001b[0m, in \u001b[0;36m<module>\u001b[0;34m\u001b[0m\n\u001b[1;32m      <a href='file:///~/anaconda3/envs/neural/lib/python3.9/site-packages/pragma/core/__init__.py?line=3'>4</a>\u001b[0m \u001b[39mimport\u001b[39;00m \u001b[39mlogging\u001b[39;00m\n\u001b[1;32m      <a href='file:///~/anaconda3/envs/neural/lib/python3.9/site-packages/pragma/core/__init__.py?line=5'>6</a>\u001b[0m \u001b[39mimport\u001b[39;00m \u001b[39mastor\u001b[39;00m\n\u001b[0;32m----> <a href='file:///~/anaconda3/envs/neural/lib/python3.9/site-packages/pragma/core/__init__.py?line=6'>7</a>\u001b[0m \u001b[39mfrom\u001b[39;00m \u001b[39mminiutils\u001b[39;00m\u001b[39m.\u001b[39;00m\u001b[39mmagic_contract\u001b[39;00m \u001b[39mimport\u001b[39;00m safe_new_contract\n\u001b[1;32m      <a href='file:///~/anaconda3/envs/neural/lib/python3.9/site-packages/pragma/core/__init__.py?line=8'>9</a>\u001b[0m log \u001b[39m=\u001b[39m logging\u001b[39m.\u001b[39mgetLogger(\u001b[39m__name__\u001b[39m\u001b[39m.\u001b[39msplit(\u001b[39m'\u001b[39m\u001b[39m.\u001b[39m\u001b[39m'\u001b[39m)[\u001b[39m0\u001b[39m])\n\u001b[1;32m     <a href='file:///~/anaconda3/envs/neural/lib/python3.9/site-packages/pragma/core/__init__.py?line=11'>12</a>\u001b[0m \u001b[39mdef\u001b[39;00m \u001b[39m_is_iterable\u001b[39m(x):\n",
      "File \u001b[0;32m~/anaconda3/envs/neural/lib/python3.9/site-packages/miniutils/__init__.py:2\u001b[0m, in \u001b[0;36m<module>\u001b[0;34m\u001b[0m\n\u001b[1;32m      <a href='file:///~/anaconda3/envs/neural/lib/python3.9/site-packages/miniutils/__init__.py?line=0'>1</a>\u001b[0m \u001b[39mfrom\u001b[39;00m \u001b[39m.\u001b[39;00m\u001b[39mcaching\u001b[39;00m \u001b[39mimport\u001b[39;00m CachedProperty, LazyDictionary, FileCached, file_cached_decorator\n\u001b[0;32m----> <a href='file:///~/anaconda3/envs/neural/lib/python3.9/site-packages/miniutils/__init__.py?line=1'>2</a>\u001b[0m \u001b[39mfrom\u001b[39;00m \u001b[39m.\u001b[39;00m\u001b[39mmagic_contract\u001b[39;00m \u001b[39mimport\u001b[39;00m magic_contract\n\u001b[1;32m      <a href='file:///~/anaconda3/envs/neural/lib/python3.9/site-packages/miniutils/__init__.py?line=2'>3</a>\u001b[0m \u001b[39mfrom\u001b[39;00m \u001b[39m.\u001b[39;00m\u001b[39mopt_decorator\u001b[39;00m \u001b[39mimport\u001b[39;00m optional_argument_decorator\n\u001b[1;32m      <a href='file:///~/anaconda3/envs/neural/lib/python3.9/site-packages/miniutils/__init__.py?line=3'>4</a>\u001b[0m \u001b[39mfrom\u001b[39;00m \u001b[39m.\u001b[39;00m\u001b[39mprogress_bar\u001b[39;00m \u001b[39mimport\u001b[39;00m progbar, parallel_progbar, iparallel_progbar\n",
      "File \u001b[0;32m~/anaconda3/envs/neural/lib/python3.9/site-packages/miniutils/magic_contract.py:1\u001b[0m, in \u001b[0;36m<module>\u001b[0;34m\u001b[0m\n\u001b[0;32m----> <a href='file:///~/anaconda3/envs/neural/lib/python3.9/site-packages/miniutils/magic_contract.py?line=0'>1</a>\u001b[0m \u001b[39mfrom\u001b[39;00m \u001b[39mcontracts\u001b[39;00m \u001b[39mimport\u001b[39;00m \u001b[39m*\u001b[39m\n\u001b[1;32m      <a href='file:///~/anaconda3/envs/neural/lib/python3.9/site-packages/miniutils/magic_contract.py?line=1'>2</a>\u001b[0m \u001b[39mfrom\u001b[39;00m \u001b[39mcontracts\u001b[39;00m\u001b[39m.\u001b[39;00m\u001b[39mlibrary\u001b[39;00m \u001b[39mimport\u001b[39;00m Extension \u001b[39mas\u001b[39;00m _Ext\n\u001b[1;32m      <a href='file:///~/anaconda3/envs/neural/lib/python3.9/site-packages/miniutils/magic_contract.py?line=2'>3</a>\u001b[0m \u001b[39mfrom\u001b[39;00m \u001b[39mminiutils\u001b[39;00m\u001b[39m.\u001b[39;00m\u001b[39mopt_decorator\u001b[39;00m \u001b[39mimport\u001b[39;00m optional_argument_decorator\n",
      "File \u001b[0;32m~/anaconda3/envs/neural/lib/python3.9/site-packages/contracts/__init__.py:44\u001b[0m, in \u001b[0;36m<module>\u001b[0;34m\u001b[0m\n\u001b[1;32m     <a href='file:///~/anaconda3/envs/neural/lib/python3.9/site-packages/contracts/__init__.py?line=40'>41</a>\u001b[0m ContractsMeta\u001b[39m.\u001b[39m\u001b[39m__module__\u001b[39m \u001b[39m=\u001b[39m \u001b[39m'\u001b[39m\u001b[39mcontracts\u001b[39m\u001b[39m'\u001b[39m\n\u001b[1;32m     <a href='file:///~/anaconda3/envs/neural/lib/python3.9/site-packages/contracts/__init__.py?line=42'>43</a>\u001b[0m \u001b[39m# And after everything else is loaded, load the  utils\u001b[39;00m\n\u001b[0;32m---> <a href='file:///~/anaconda3/envs/neural/lib/python3.9/site-packages/contracts/__init__.py?line=43'>44</a>\u001b[0m \u001b[39mfrom\u001b[39;00m \u001b[39m.\u001b[39;00m\u001b[39museful_contracts\u001b[39;00m \u001b[39mimport\u001b[39;00m \u001b[39m*\u001b[39m\n",
      "File \u001b[0;32m~/anaconda3/envs/neural/lib/python3.9/site-packages/contracts/useful_contracts/__init__.py:8\u001b[0m, in \u001b[0;36m<module>\u001b[0;34m\u001b[0m\n\u001b[1;32m      <a href='file:///~/anaconda3/envs/neural/lib/python3.9/site-packages/contracts/useful_contracts/__init__.py?line=5'>6</a>\u001b[0m     \u001b[39mpass\u001b[39;00m\n\u001b[1;32m      <a href='file:///~/anaconda3/envs/neural/lib/python3.9/site-packages/contracts/useful_contracts/__init__.py?line=6'>7</a>\u001b[0m \u001b[39melse\u001b[39;00m:\n\u001b[0;32m----> <a href='file:///~/anaconda3/envs/neural/lib/python3.9/site-packages/contracts/useful_contracts/__init__.py?line=7'>8</a>\u001b[0m     \u001b[39mfrom\u001b[39;00m \u001b[39m.\u001b[39;00m\u001b[39mnumpy_specific\u001b[39;00m \u001b[39mimport\u001b[39;00m \u001b[39m*\u001b[39m    \n\u001b[1;32m     <a href='file:///~/anaconda3/envs/neural/lib/python3.9/site-packages/contracts/useful_contracts/__init__.py?line=9'>10</a>\u001b[0m \u001b[39mfrom\u001b[39;00m \u001b[39m.\u001b[39;00m\u001b[39mnumbers\u001b[39;00m \u001b[39mimport\u001b[39;00m \u001b[39m*\u001b[39m\n\u001b[1;32m     <a href='file:///~/anaconda3/envs/neural/lib/python3.9/site-packages/contracts/useful_contracts/__init__.py?line=12'>13</a>\u001b[0m new_contract(\u001b[39m'\u001b[39m\u001b[39mbytes\u001b[39m\u001b[39m'\u001b[39m, \u001b[39mbytes\u001b[39m)\n",
      "File \u001b[0;32m~/anaconda3/envs/neural/lib/python3.9/site-packages/contracts/useful_contracts/numpy_specific.py:8\u001b[0m, in \u001b[0;36m<module>\u001b[0;34m\u001b[0m\n\u001b[1;32m      <a href='file:///~/anaconda3/envs/neural/lib/python3.9/site-packages/contracts/useful_contracts/numpy_specific.py?line=2'>3</a>\u001b[0m \u001b[39mfrom\u001b[39;00m \u001b[39mcontracts\u001b[39;00m\u001b[39m.\u001b[39;00m\u001b[39minterface\u001b[39;00m \u001b[39mimport\u001b[39;00m describe_value, describe_type\n\u001b[1;32m      <a href='file:///~/anaconda3/envs/neural/lib/python3.9/site-packages/contracts/useful_contracts/numpy_specific.py?line=4'>5</a>\u001b[0m __all__ \u001b[39m=\u001b[39m [\u001b[39m'\u001b[39m\u001b[39mfinite\u001b[39m\u001b[39m'\u001b[39m]\n\u001b[1;32m      <a href='file:///~/anaconda3/envs/neural/lib/python3.9/site-packages/contracts/useful_contracts/numpy_specific.py?line=6'>7</a>\u001b[0m \u001b[39m@new_contract\u001b[39;49m\n\u001b[0;32m----> <a href='file:///~/anaconda3/envs/neural/lib/python3.9/site-packages/contracts/useful_contracts/numpy_specific.py?line=7'>8</a>\u001b[0m \u001b[39mdef\u001b[39;49;00m \u001b[39mfinite\u001b[39;49m(x):\n\u001b[1;32m      <a href='file:///~/anaconda3/envs/neural/lib/python3.9/site-packages/contracts/useful_contracts/numpy_specific.py?line=8'>9</a>\u001b[0m     \u001b[39mreturn\u001b[39;49;00m np\u001b[39m.\u001b[39;49misfinite(x)\u001b[39m.\u001b[39;49mall()\n\u001b[1;32m     <a href='file:///~/anaconda3/envs/neural/lib/python3.9/site-packages/contracts/useful_contracts/numpy_specific.py?line=10'>11</a>\u001b[0m new_contract(\u001b[39m'\u001b[39m\u001b[39mnp_scalar_uint\u001b[39m\u001b[39m'\u001b[39m, \u001b[39m'\u001b[39m\u001b[39mnp_uint8|np_uint16|np_uint32|np_uint64\u001b[39m\u001b[39m'\u001b[39m)\n",
      "File \u001b[0;32m~/anaconda3/envs/neural/lib/python3.9/site-packages/contracts/__init__.py:28\u001b[0m, in \u001b[0;36mnew_contract\u001b[0;34m(*args)\u001b[0m\n\u001b[1;32m     <a href='file:///~/anaconda3/envs/neural/lib/python3.9/site-packages/contracts/__init__.py?line=26'>27</a>\u001b[0m \u001b[39mdef\u001b[39;00m \u001b[39mnew_contract\u001b[39m(\u001b[39m*\u001b[39margs):\n\u001b[0;32m---> <a href='file:///~/anaconda3/envs/neural/lib/python3.9/site-packages/contracts/__init__.py?line=27'>28</a>\u001b[0m     \u001b[39mreturn\u001b[39;00m new_contract_main(\u001b[39m*\u001b[39;49margs)\n",
      "File \u001b[0;32m~/anaconda3/envs/neural/lib/python3.9/site-packages/contracts/main.py:553\u001b[0m, in \u001b[0;36mnew_contract\u001b[0;34m(*args)\u001b[0m\n\u001b[1;32m    <a href='file:///~/anaconda3/envs/neural/lib/python3.9/site-packages/contracts/main.py?line=550'>551</a>\u001b[0m         \u001b[39mreturn\u001b[39;00m function\n\u001b[1;32m    <a href='file:///~/anaconda3/envs/neural/lib/python3.9/site-packages/contracts/main.py?line=551'>552</a>\u001b[0m     identifier \u001b[39m=\u001b[39m function\u001b[39m.\u001b[39m\u001b[39m__name__\u001b[39m\n\u001b[0;32m--> <a href='file:///~/anaconda3/envs/neural/lib/python3.9/site-packages/contracts/main.py?line=552'>553</a>\u001b[0m     new_contract_impl(identifier, function)\n\u001b[1;32m    <a href='file:///~/anaconda3/envs/neural/lib/python3.9/site-packages/contracts/main.py?line=553'>554</a>\u001b[0m     \u001b[39mreturn\u001b[39;00m function\n\u001b[1;32m    <a href='file:///~/anaconda3/envs/neural/lib/python3.9/site-packages/contracts/main.py?line=554'>555</a>\u001b[0m \u001b[39melse\u001b[39;00m:\n",
      "File \u001b[0;32m~/anaconda3/envs/neural/lib/python3.9/site-packages/contracts/main.py:563\u001b[0m, in \u001b[0;36mnew_contract_impl\u001b[0;34m(identifier, condition)\u001b[0m\n\u001b[1;32m    <a href='file:///~/anaconda3/envs/neural/lib/python3.9/site-packages/contracts/main.py?line=560'>561</a>\u001b[0m \u001b[39mdef\u001b[39;00m \u001b[39mnew_contract_impl\u001b[39m(identifier, condition):\n\u001b[0;32m--> <a href='file:///~/anaconda3/envs/neural/lib/python3.9/site-packages/contracts/main.py?line=562'>563</a>\u001b[0m     \u001b[39mfrom\u001b[39;00m \u001b[39m.\u001b[39;00m\u001b[39msyntax\u001b[39;00m \u001b[39mimport\u001b[39;00m ParseException\n\u001b[1;32m    <a href='file:///~/anaconda3/envs/neural/lib/python3.9/site-packages/contracts/main.py?line=563'>564</a>\u001b[0m     \u001b[39mfrom\u001b[39;00m \u001b[39m.\u001b[39;00m\u001b[39mlibrary\u001b[39;00m\u001b[39m.\u001b[39;00m\u001b[39mextensions\u001b[39;00m \u001b[39mimport\u001b[39;00m CheckCallableWithSelf\n\u001b[1;32m    <a href='file:///~/anaconda3/envs/neural/lib/python3.9/site-packages/contracts/main.py?line=564'>565</a>\u001b[0m     \u001b[39mfrom\u001b[39;00m \u001b[39m.\u001b[39;00m\u001b[39mlibrary\u001b[39;00m \u001b[39mimport\u001b[39;00m (CheckCallable, Extension, SeparateContext,\n\u001b[1;32m    <a href='file:///~/anaconda3/envs/neural/lib/python3.9/site-packages/contracts/main.py?line=565'>566</a>\u001b[0m         identifier_expression)\n",
      "File \u001b[0;32m~/anaconda3/envs/neural/lib/python3.9/site-packages/contracts/syntax.py:6\u001b[0m, in \u001b[0;36m<module>\u001b[0;34m\u001b[0m\n\u001b[1;32m      <a href='file:///~/anaconda3/envs/neural/lib/python3.9/site-packages/contracts/syntax.py?line=1'>2</a>\u001b[0m \u001b[39mimport\u001b[39;00m \u001b[39mmath\u001b[39;00m\n\u001b[1;32m      <a href='file:///~/anaconda3/envs/neural/lib/python3.9/site-packages/contracts/syntax.py?line=4'>5</a>\u001b[0m \u001b[39m# All the imports from pyparsing go here\u001b[39;00m\n\u001b[0;32m----> <a href='file:///~/anaconda3/envs/neural/lib/python3.9/site-packages/contracts/syntax.py?line=5'>6</a>\u001b[0m \u001b[39mfrom\u001b[39;00m \u001b[39mpyparsing\u001b[39;00m \u001b[39mimport\u001b[39;00m (delimitedList, Forward, Literal,\n\u001b[1;32m      <a href='file:///~/anaconda3/envs/neural/lib/python3.9/site-packages/contracts/syntax.py?line=6'>7</a>\u001b[0m                        stringEnd, nums, Word, CaselessLiteral, Combine,\n\u001b[1;32m      <a href='file:///~/anaconda3/envs/neural/lib/python3.9/site-packages/contracts/syntax.py?line=7'>8</a>\u001b[0m                        Optional, Suppress, OneOrMore, ZeroOrMore, opAssoc,\n\u001b[1;32m      <a href='file:///~/anaconda3/envs/neural/lib/python3.9/site-packages/contracts/syntax.py?line=8'>9</a>\u001b[0m                        operatorPrecedence, oneOf, ParseException,\n\u001b[1;32m     <a href='file:///~/anaconda3/envs/neural/lib/python3.9/site-packages/contracts/syntax.py?line=9'>10</a>\u001b[0m                        ParserElement,\n\u001b[1;32m     <a href='file:///~/anaconda3/envs/neural/lib/python3.9/site-packages/contracts/syntax.py?line=10'>11</a>\u001b[0m                        alphas, alphanums, ParseFatalException,\n\u001b[1;32m     <a href='file:///~/anaconda3/envs/neural/lib/python3.9/site-packages/contracts/syntax.py?line=11'>12</a>\u001b[0m                        ParseSyntaxException, FollowedBy, NotAny, Or,\n\u001b[1;32m     <a href='file:///~/anaconda3/envs/neural/lib/python3.9/site-packages/contracts/syntax.py?line=12'>13</a>\u001b[0m                        MatchFirst, Keyword, Group, White, lineno, col)\n\u001b[1;32m     <a href='file:///~/anaconda3/envs/neural/lib/python3.9/site-packages/contracts/syntax.py?line=15'>16</a>\u001b[0m \u001b[39m# from .pyparsing_utils import myOperatorPrecedence\u001b[39;00m\n\u001b[1;32m     <a href='file:///~/anaconda3/envs/neural/lib/python3.9/site-packages/contracts/syntax.py?line=16'>17</a>\u001b[0m \n\u001b[1;32m     <a href='file:///~/anaconda3/envs/neural/lib/python3.9/site-packages/contracts/syntax.py?line=17'>18</a>\u001b[0m \n\u001b[1;32m     <a href='file:///~/anaconda3/envs/neural/lib/python3.9/site-packages/contracts/syntax.py?line=18'>19</a>\u001b[0m \u001b[39m# Enable memoization (much faster!)\u001b[39;00m\n\u001b[1;32m     <a href='file:///~/anaconda3/envs/neural/lib/python3.9/site-packages/contracts/syntax.py?line=19'>20</a>\u001b[0m \u001b[39mif\u001b[39;00m \u001b[39mTrue\u001b[39;00m:\n",
      "\u001b[0;31mImportError\u001b[0m: cannot import name 'operatorPrecedence' from 'pyparsing' (/home/tingkai/anaconda3/envs/neural/lib/python3.9/site-packages/pyparsing/__init__.py)"
     ]
    }
   ],
   "source": [
    "import pragma\n",
    "import numba\n",
    "fns = [sin, cos, tan]\n",
    "\n",
    "@numba.jit\n",
    "@pragma.deindex(fns, 'fns')\n",
    "@pragma.unroll(num_fns=len(fns))\n",
    "def call(i, x):\n",
    "   for j in range(num_fns):\n",
    "      if i == j:\n",
    "         return fns[j](x)  # Still dynamic call, but decorators convert to static\n"
   ]
  },
  {
   "cell_type": "code",
   "execution_count": null,
   "metadata": {},
   "outputs": [],
   "source": []
  }
 ],
 "metadata": {
  "interpreter": {
   "hash": "e53761087f5b83f447dedb9b9cbb01a83ae5a5f1ef55f60280c52164232220af"
  },
  "kernelspec": {
   "display_name": "Python 3.9.10 ('neural')",
   "language": "python",
   "name": "python3"
  },
  "language_info": {
   "codemirror_mode": {
    "name": "ipython",
    "version": 3
   },
   "file_extension": ".py",
   "mimetype": "text/x-python",
   "name": "python",
   "nbconvert_exporter": "python",
   "pygments_lexer": "ipython3",
   "version": "3.9.10"
  },
  "orig_nbformat": 4
 },
 "nbformat": 4,
 "nbformat_minor": 2
}
