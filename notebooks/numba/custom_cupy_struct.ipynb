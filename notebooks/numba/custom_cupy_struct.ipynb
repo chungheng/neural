{
 "cells": [
  {
   "cell_type": "code",
   "execution_count": 1,
   "metadata": {},
   "outputs": [],
   "source": [
    "import sys\n",
    "import numpy\n",
    "import cupy"
   ]
  },
  {
   "cell_type": "code",
   "execution_count": 2,
   "metadata": {},
   "outputs": [],
   "source": [
    "struct_definition = '''\n",
    "struct complex_struct {\n",
    "    int4 a;\n",
    "    char b;\n",
    "    double c[2];\n",
    "    short1 d;\n",
    "    unsigned long long int e[3];\n",
    "};\n",
    "'''"
   ]
  },
  {
   "cell_type": "code",
   "execution_count": 3,
   "metadata": {},
   "outputs": [],
   "source": [
    "struct_layout_code = '''\n",
    "{struct_definition}\n",
    "extern \"C\" __global__ void get_struct_layout(\n",
    "                                unsigned long long *itemsize,\n",
    "                                unsigned long long *sizes,\n",
    "                                unsigned long long *offsets) {{\n",
    "    const complex_struct* ptr = NULL;\n",
    "    itemsize[0] = sizeof(complex_struct);\n",
    "    sizes[0] = sizeof(ptr->a);\n",
    "    sizes[1] = sizeof(ptr->b);\n",
    "    sizes[2] = sizeof(ptr->c);\n",
    "    sizes[3] = sizeof(ptr->d);\n",
    "    sizes[4] = sizeof(ptr->e);\n",
    "    offsets[0] = (unsigned long long)&ptr->a;\n",
    "    offsets[1] = (unsigned long long)&ptr->b;\n",
    "    offsets[2] = (unsigned long long)&ptr->c;\n",
    "    offsets[3] = (unsigned long long)&ptr->d;\n",
    "    offsets[4] = (unsigned long long)&ptr->e;\n",
    "}}\n",
    "'''.format(struct_definition=struct_definition)"
   ]
  },
  {
   "cell_type": "code",
   "execution_count": 4,
   "metadata": {},
   "outputs": [],
   "source": [
    "kernel_code = '''\n",
    "{struct_definition}\n",
    "extern \"C\" __global__ void test_kernel(const complex_struct s,\n",
    "                                       double* out) {{\n",
    "    int i = threadIdx.x;\n",
    "    double sum = 0.0;\n",
    "    sum += s.a.x + s.a.y + s.a.z + s.a.w;\n",
    "    sum += s.b;\n",
    "    sum += s.c[0] + s.c[1];\n",
    "    sum += s.d.x;\n",
    "    sum += s.e[0] + s.e[1] + s.e[2];\n",
    "    out[i] = i * sum;\n",
    "}}\n",
    "'''.format(struct_definition=struct_definition)"
   ]
  },
  {
   "cell_type": "code",
   "execution_count": 5,
   "metadata": {},
   "outputs": [],
   "source": [
    "def make_packed(basetype, N, itemsize):\n",
    "    # A small utility function to make packed structs\n",
    "    # Can represent simple packed vectors such as float4 or double[3].\n",
    "    assert 0 < N <= 4, N\n",
    "    names = list('xyzw')[:N]\n",
    "    formats = [basetype]*N\n",
    "    return numpy.dtype(dict(names=names,\n",
    "                            formats=formats,\n",
    "                            itemsize=itemsize))"
   ]
  },
  {
   "cell_type": "code",
   "execution_count": 7,
   "metadata": {},
   "outputs": [],
   "source": [
    "# This program demonstrate how to build a hostside\n",
    "# representation of device structure 'complex_struct'\n",
    "# defined in variable 'struct_definition' that can be\n",
    "# used as a RawKernel argument.\n",
    "\n",
    "# First step is to determine structure memory layout\n",
    "#  itemsize -> overall struct size\n",
    "#  sizes    -> individual struct member sizes, determined with sizeof\n",
    "#  offsets  -> individual struct member offsets, determined with offsetof\n",
    "# Results (in terms of bytes) are copied to host after kernel launch.\n",
    "# Note that 'complex_struct' has 5 members named a, b, c, d and e.\n",
    "itemsize = cupy.ndarray(shape=(1,), dtype=numpy.uint64)\n",
    "sizes = cupy.ndarray(shape=(5,), dtype=numpy.uint64)\n",
    "offsets = cupy.ndarray(shape=(5,), dtype=numpy.uint64)"
   ]
  },
  {
   "cell_type": "code",
   "execution_count": 8,
   "metadata": {},
   "outputs": [],
   "source": [
    "kernel = cupy.RawKernel(struct_layout_code, 'get_struct_layout')\n",
    "kernel((1,), (1,), (itemsize, sizes, offsets))"
   ]
  },
  {
   "cell_type": "code",
   "execution_count": 9,
   "metadata": {},
   "outputs": [
    {
     "name": "stdout",
     "output_type": "stream",
     "text": [
      "Overall structure itemsize: 80 bytes\n",
      "Structure members itemsize: [16  1 16  2 24]\n",
      "Structure members offsets: [ 0 16 24 40 48]\n"
     ]
    }
   ],
   "source": [
    "(itemsize, sizes, offsets) = map(cupy.asnumpy, (itemsize, sizes, offsets))\n",
    "\n",
    "print(\"Overall structure itemsize: {} bytes\".format(itemsize.item()))\n",
    "print(\"Structure members itemsize: {}\".format(sizes))\n",
    "print(\"Structure members offsets: {}\".format(offsets))"
   ]
  },
  {
   "cell_type": "code",
   "execution_count": 12,
   "metadata": {},
   "outputs": [],
   "source": [
    "# Second step: build a numpy dtype for each struct member\n",
    "atype = make_packed(numpy.int32,   4, sizes[0])\n",
    "btype = make_packed(numpy.int8,    1, sizes[1])\n",
    "ctype = make_packed(numpy.float64, 2, sizes[2])\n",
    "dtype = make_packed(numpy.int16,   1, sizes[3])\n",
    "etype = make_packed(numpy.uint64,  3, sizes[4])"
   ]
  },
  {
   "cell_type": "code",
   "execution_count": 21,
   "metadata": {},
   "outputs": [],
   "source": [
    "# Third step: create the complex struct representation with\n",
    "#  the right offsets\n",
    "names = list('abcde')\n",
    "formats = [atype, btype, ctype, dtype, etype]\n",
    "complex_struct = numpy.dtype(dict(\n",
    "    names=names,\n",
    "    formats=formats,\n",
    "    offsets=offsets,\n",
    "    itemsize=itemsize.item()))"
   ]
  },
  {
   "cell_type": "code",
   "execution_count": 22,
   "metadata": {},
   "outputs": [
    {
     "name": "stdout",
     "output_type": "stream",
     "text": [
      "Complex structure value:\n",
      "  [((0, 1, 2, 3), (4,), (5., 6.), (7,), (8, 9, 10))]\n"
     ]
    }
   ],
   "source": [
    "# Build a complex_struct kernel argument\n",
    "s = numpy.empty(shape=(1,), dtype=complex_struct)\n",
    "s['a'] = numpy.arange(0, 4).astype(numpy.int32).view(atype)\n",
    "s['b'] = numpy.arange(4, 5).astype(numpy.int8).view(btype)\n",
    "s['c'] = numpy.arange(5, 7).astype(numpy.float64).view(ctype)\n",
    "s['d'] = numpy.arange(7, 8).astype(numpy.int16).view(dtype)\n",
    "s['e'] = numpy.arange(8, 11).astype(numpy.uint64).view(etype)\n",
    "print(\"Complex structure value:\\n  {}\".format(s))"
   ]
  },
  {
   "cell_type": "code",
   "execution_count": 25,
   "metadata": {},
   "outputs": [],
   "source": [
    "# Setup test kernel\n",
    "N = 8\n",
    "out = cupy.empty(shape=(N,), dtype=numpy.float64)\n",
    "kernel = cupy.RawKernel(kernel_code, 'test_kernel')\n",
    "kernel((1,), (N,), (s, out))"
   ]
  },
  {
   "cell_type": "code",
   "execution_count": 31,
   "metadata": {},
   "outputs": [
    {
     "name": "stdout",
     "output_type": "stream",
     "text": [
      "Kernel output matches expected value.\n"
     ]
    }
   ],
   "source": [
    "# the sum of all members of our complex struct instance is 55.0\n",
    "expected = cupy.arange(N) * 55.0\n",
    "\n",
    "cupy.testing.assert_array_almost_equal(expected, out)\n",
    "print(\"Kernel output matches expected value.\")"
   ]
  }
 ],
 "metadata": {
  "interpreter": {
   "hash": "e53761087f5b83f447dedb9b9cbb01a83ae5a5f1ef55f60280c52164232220af"
  },
  "kernelspec": {
   "display_name": "Python 3.9.10 ('neural')",
   "language": "python",
   "name": "python3"
  },
  "language_info": {
   "codemirror_mode": {
    "name": "ipython",
    "version": 3
   },
   "file_extension": ".py",
   "mimetype": "text/x-python",
   "name": "python",
   "nbconvert_exporter": "python",
   "pygments_lexer": "ipython3",
   "version": "3.9.10"
  },
  "orig_nbformat": 4
 },
 "nbformat": 4,
 "nbformat_minor": 2
}
