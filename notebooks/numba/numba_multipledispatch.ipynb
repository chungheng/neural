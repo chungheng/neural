{
 "cells": [
  {
   "cell_type": "code",
   "execution_count": 31,
   "id": "7bc05511-7202-4cc9-8560-b9a318433c9d",
   "metadata": {},
   "outputs": [],
   "source": [
    "import numpy as np\n",
    "import numba\n",
    "from typing import Iterable\n",
    "from numbers import Number\n",
    "\n",
    "def arr_func(a: Iterable[Number], b: Iterable[Number], c: Iterable[Number]):\n",
    "    for n in range(a.shape[0]):\n",
    "        c[n] = a[n]+b[n]\n",
    "\n",
    "def b_is_scalar(a: Iterable[Number], b: Number, c: Iterable[Number]):\n",
    "    for n in range(a.shape[0]):\n",
    "        c[n] = a[n]+b\n",
    "        \n",
    "nb_func = numba.njit()(arr_func)\n",
    "nb_func2 = numba.njit()(b_is_scalar)\n",
    "\n",
    "# can I do something like \n",
    "@numba.njit()\n",
    "def arr_func(a: Iterable[Number], b: Iterable[Number], c: Iterable[Number]):\n",
    "    for n in range(a.shape[0]):\n",
    "        c[n] = a[n]+b[n]\n",
    "\n",
    "@arr_func.register([(double[:], double, double[:])])\n",
    "def _(a: Iterable[Number], b: Number, c: Iterable[Number]):\n",
    "    for n in range(a.shape[0]):\n",
    "        c[n] = a[n]+b"
   ]
  },
  {
   "cell_type": "code",
   "execution_count": 48,
   "id": "87fcf03f-717f-4a26-9f05-de98784ccfa8",
   "metadata": {},
   "outputs": [],
   "source": [
    "a,b,c = np.random.randn(10),np.random.randn(10),np.random.randn(10)\n",
    "a,b,c = np.random.randn(10).astype(np.float32),np.random.randn(10).astype(np.float32),np.random.randn(10).astype(np.float32)"
   ]
  },
  {
   "cell_type": "code",
   "execution_count": 49,
   "id": "15f78226-517a-41c0-b24c-8034518d807d",
   "metadata": {},
   "outputs": [],
   "source": [
    "nb_func(a,b,c)"
   ]
  },
  {
   "cell_type": "code",
   "execution_count": 43,
   "id": "bf54a3bf-eeaa-4caf-b5fa-febf9fd78f9e",
   "metadata": {},
   "outputs": [
    {
     "data": {
      "text/plain": [
       "[]"
      ]
     },
     "execution_count": 43,
     "metadata": {},
     "output_type": "execute_result"
    }
   ],
   "source": [
    "nb_func.nopython_signatures"
   ]
  },
  {
   "cell_type": "code",
   "execution_count": null,
   "id": "af1a3566-f5d1-45ea-bde4-1c5e8f422283",
   "metadata": {},
   "outputs": [],
   "source": []
  }
 ],
 "metadata": {
  "kernelspec": {
   "display_name": "Python 3 (ipykernel)",
   "language": "python",
   "name": "python3"
  },
  "language_info": {
   "codemirror_mode": {
    "name": "ipython",
    "version": 3
   },
   "file_extension": ".py",
   "mimetype": "text/x-python",
   "name": "python",
   "nbconvert_exporter": "python",
   "pygments_lexer": "ipython3",
   "version": "3.9.10"
  }
 },
 "nbformat": 4,
 "nbformat_minor": 5
}
